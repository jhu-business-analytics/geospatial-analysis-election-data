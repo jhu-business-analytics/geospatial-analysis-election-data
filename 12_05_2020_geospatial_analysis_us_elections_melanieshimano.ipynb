{
  "nbformat": 4,
  "nbformat_minor": 0,
  "metadata": {
    "colab": {
      "name": "12-05-2020-geospatial-analysis-us-elections-melanieshimano.ipynb",
      "provenance": [],
      "collapsed_sections": [],
      "authorship_tag": "ABX9TyMqeRz4zIb49S+lyw9QtIqt",
      "include_colab_link": true
    },
    "kernelspec": {
      "name": "python3",
      "display_name": "Python 3"
    }
  },
  "cells": [
    {
      "cell_type": "markdown",
      "metadata": {
        "id": "view-in-github",
        "colab_type": "text"
      },
      "source": [
        "<a href=\"https://colab.research.google.com/github/melanieshimano/geospatial-analysis-election-data/blob/main/12_05_2020_geospatial_analysis_us_elections_melanieshimano.ipynb\" target=\"_parent\"><img src=\"https://colab.research.google.com/assets/colab-badge.svg\" alt=\"Open In Colab\"/></a>"
      ]
    },
    {
      "cell_type": "markdown",
      "metadata": {
        "id": "SQ1fu77JNtII"
      },
      "source": [
        "# Geospatial Analysis with US Presidential Election Data"
      ]
    },
    {
      "cell_type": "markdown",
      "metadata": {
        "id": "iKwXfNgkNyEX"
      },
      "source": [
        "Election data downloaded from the MIT Election Lab: https://electionlab.mit.edu/data\n",
        "\n",
        "State Shape data downloaded from the US Census website: https://www.census.gov/geographies/mapping-files/time-series/geo/carto-boundary-file.html"
      ]
    },
    {
      "cell_type": "markdown",
      "metadata": {
        "id": "SZ01Rv83N_0f"
      },
      "source": [
        "# import libraries"
      ]
    },
    {
      "cell_type": "code",
      "metadata": {
        "colab": {
          "base_uri": "https://localhost:8080/"
        },
        "id": "RrYVBBMiNlaG",
        "outputId": "e2f518ef-fee9-4be5-b8ce-8277018991dd"
      },
      "source": [
        "# download libraries to then use in google colab\n",
        "\n",
        "# Important library for many geopython libraries\n",
        "!apt install gdal-bin python-gdal python3-gdal\n",
        " \n",
        "# Install rtree - Geopandas requirment\n",
        "!apt install python3-rtree\n",
        "\n",
        "# Install Geopandas\n",
        "!pip install git+git://github.com/geopandas/geopandas.git\n",
        "\n",
        "# Install descartes - Geopandas requirment\n",
        "!pip install descartes \n",
        "\n",
        "# Install Folium for Geographic data visualization\n",
        "!pip install folium\n",
        "\n",
        "# Install mapclassify for geospatial data viz\n",
        "!pip install mapclassify"
      ],
      "execution_count": 7,
      "outputs": [
        {
          "output_type": "stream",
          "text": [
            "Reading package lists... Done\n",
            "Building dependency tree       \n",
            "Reading state information... Done\n",
            "gdal-bin is already the newest version (2.2.3+dfsg-2).\n",
            "python-gdal is already the newest version (2.2.3+dfsg-2).\n",
            "python3-gdal is already the newest version (2.2.3+dfsg-2).\n",
            "0 upgraded, 0 newly installed, 0 to remove and 14 not upgraded.\n",
            "Reading package lists... Done\n",
            "Building dependency tree       \n",
            "Reading state information... Done\n",
            "python3-rtree is already the newest version (0.8.3+ds-1).\n",
            "0 upgraded, 0 newly installed, 0 to remove and 14 not upgraded.\n",
            "Collecting git+git://github.com/geopandas/geopandas.git\n",
            "  Cloning git://github.com/geopandas/geopandas.git to /tmp/pip-req-build-o7orew1z\n",
            "  Running command git clone -q git://github.com/geopandas/geopandas.git /tmp/pip-req-build-o7orew1z\n",
            "Requirement already satisfied (use --upgrade to upgrade): geopandas==0.8.0+72.ge506de5 from git+git://github.com/geopandas/geopandas.git in /usr/local/lib/python3.6/dist-packages\n",
            "Requirement already satisfied: pandas>=0.24.0 in /usr/local/lib/python3.6/dist-packages (from geopandas==0.8.0+72.ge506de5) (1.1.4)\n",
            "Requirement already satisfied: shapely>=1.6 in /usr/local/lib/python3.6/dist-packages (from geopandas==0.8.0+72.ge506de5) (1.7.1)\n",
            "Requirement already satisfied: fiona>=1.8 in /usr/local/lib/python3.6/dist-packages (from geopandas==0.8.0+72.ge506de5) (1.8.18)\n",
            "Requirement already satisfied: pyproj>=2.2.0 in /usr/local/lib/python3.6/dist-packages (from geopandas==0.8.0+72.ge506de5) (3.0.0.post1)\n",
            "Requirement already satisfied: numpy>=1.15.4 in /usr/local/lib/python3.6/dist-packages (from pandas>=0.24.0->geopandas==0.8.0+72.ge506de5) (1.18.5)\n",
            "Requirement already satisfied: python-dateutil>=2.7.3 in /usr/local/lib/python3.6/dist-packages (from pandas>=0.24.0->geopandas==0.8.0+72.ge506de5) (2.8.1)\n",
            "Requirement already satisfied: pytz>=2017.2 in /usr/local/lib/python3.6/dist-packages (from pandas>=0.24.0->geopandas==0.8.0+72.ge506de5) (2018.9)\n",
            "Requirement already satisfied: click<8,>=4.0 in /usr/local/lib/python3.6/dist-packages (from fiona>=1.8->geopandas==0.8.0+72.ge506de5) (7.1.2)\n",
            "Requirement already satisfied: click-plugins>=1.0 in /usr/local/lib/python3.6/dist-packages (from fiona>=1.8->geopandas==0.8.0+72.ge506de5) (1.1.1)\n",
            "Requirement already satisfied: attrs>=17 in /usr/local/lib/python3.6/dist-packages (from fiona>=1.8->geopandas==0.8.0+72.ge506de5) (20.3.0)\n",
            "Requirement already satisfied: munch in /usr/local/lib/python3.6/dist-packages (from fiona>=1.8->geopandas==0.8.0+72.ge506de5) (2.5.0)\n",
            "Requirement already satisfied: certifi in /usr/local/lib/python3.6/dist-packages (from fiona>=1.8->geopandas==0.8.0+72.ge506de5) (2020.11.8)\n",
            "Requirement already satisfied: six>=1.7 in /usr/local/lib/python3.6/dist-packages (from fiona>=1.8->geopandas==0.8.0+72.ge506de5) (1.15.0)\n",
            "Requirement already satisfied: cligj>=0.5 in /usr/local/lib/python3.6/dist-packages (from fiona>=1.8->geopandas==0.8.0+72.ge506de5) (0.7.1)\n",
            "Building wheels for collected packages: geopandas\n",
            "  Building wheel for geopandas (setup.py) ... \u001b[?25l\u001b[?25hdone\n",
            "  Created wheel for geopandas: filename=geopandas-0.8.0+72.ge506de5-py2.py3-none-any.whl size=973052 sha256=e5228a93dbbb2d90f823fd25279d2130ca1c00f8cc09f92418595240a270df75\n",
            "  Stored in directory: /tmp/pip-ephem-wheel-cache-im05ibm4/wheels/91/24/71/376c9c67192694168352afcccc2d264248f7e2cc6192997186\n",
            "Successfully built geopandas\n",
            "Requirement already satisfied: descartes in /usr/local/lib/python3.6/dist-packages (1.1.0)\n",
            "Requirement already satisfied: matplotlib in /usr/local/lib/python3.6/dist-packages (from descartes) (3.2.2)\n",
            "Requirement already satisfied: numpy>=1.11 in /usr/local/lib/python3.6/dist-packages (from matplotlib->descartes) (1.18.5)\n",
            "Requirement already satisfied: kiwisolver>=1.0.1 in /usr/local/lib/python3.6/dist-packages (from matplotlib->descartes) (1.3.1)\n",
            "Requirement already satisfied: pyparsing!=2.0.4,!=2.1.2,!=2.1.6,>=2.0.1 in /usr/local/lib/python3.6/dist-packages (from matplotlib->descartes) (2.4.7)\n",
            "Requirement already satisfied: python-dateutil>=2.1 in /usr/local/lib/python3.6/dist-packages (from matplotlib->descartes) (2.8.1)\n",
            "Requirement already satisfied: cycler>=0.10 in /usr/local/lib/python3.6/dist-packages (from matplotlib->descartes) (0.10.0)\n",
            "Requirement already satisfied: six>=1.5 in /usr/local/lib/python3.6/dist-packages (from python-dateutil>=2.1->matplotlib->descartes) (1.15.0)\n",
            "Requirement already satisfied: folium in /usr/local/lib/python3.6/dist-packages (0.8.3)\n",
            "Requirement already satisfied: jinja2 in /usr/local/lib/python3.6/dist-packages (from folium) (2.11.2)\n",
            "Requirement already satisfied: six in /usr/local/lib/python3.6/dist-packages (from folium) (1.15.0)\n",
            "Requirement already satisfied: numpy in /usr/local/lib/python3.6/dist-packages (from folium) (1.18.5)\n",
            "Requirement already satisfied: requests in /usr/local/lib/python3.6/dist-packages (from folium) (2.23.0)\n",
            "Requirement already satisfied: branca>=0.3.0 in /usr/local/lib/python3.6/dist-packages (from folium) (0.4.1)\n",
            "Requirement already satisfied: MarkupSafe>=0.23 in /usr/local/lib/python3.6/dist-packages (from jinja2->folium) (1.1.1)\n",
            "Requirement already satisfied: urllib3!=1.25.0,!=1.25.1,<1.26,>=1.21.1 in /usr/local/lib/python3.6/dist-packages (from requests->folium) (1.24.3)\n",
            "Requirement already satisfied: chardet<4,>=3.0.2 in /usr/local/lib/python3.6/dist-packages (from requests->folium) (3.0.4)\n",
            "Requirement already satisfied: certifi>=2017.4.17 in /usr/local/lib/python3.6/dist-packages (from requests->folium) (2020.11.8)\n",
            "Requirement already satisfied: idna<3,>=2.5 in /usr/local/lib/python3.6/dist-packages (from requests->folium) (2.10)\n",
            "Requirement already satisfied: mapclassify in /usr/local/lib/python3.6/dist-packages (2.3.0)\n",
            "Requirement already satisfied: numpy>=1.3 in /usr/local/lib/python3.6/dist-packages (from mapclassify) (1.18.5)\n",
            "Requirement already satisfied: scikit-learn in /usr/local/lib/python3.6/dist-packages (from mapclassify) (0.22.2.post1)\n",
            "Requirement already satisfied: scipy>=1.0 in /usr/local/lib/python3.6/dist-packages (from mapclassify) (1.4.1)\n",
            "Requirement already satisfied: pandas>=1.0 in /usr/local/lib/python3.6/dist-packages (from mapclassify) (1.1.4)\n",
            "Requirement already satisfied: networkx in /usr/local/lib/python3.6/dist-packages (from mapclassify) (2.5)\n",
            "Requirement already satisfied: joblib>=0.11 in /usr/local/lib/python3.6/dist-packages (from scikit-learn->mapclassify) (0.17.0)\n",
            "Requirement already satisfied: python-dateutil>=2.7.3 in /usr/local/lib/python3.6/dist-packages (from pandas>=1.0->mapclassify) (2.8.1)\n",
            "Requirement already satisfied: pytz>=2017.2 in /usr/local/lib/python3.6/dist-packages (from pandas>=1.0->mapclassify) (2018.9)\n",
            "Requirement already satisfied: decorator>=4.3.0 in /usr/local/lib/python3.6/dist-packages (from networkx->mapclassify) (4.4.2)\n",
            "Requirement already satisfied: six>=1.5 in /usr/local/lib/python3.6/dist-packages (from python-dateutil>=2.7.3->pandas>=1.0->mapclassify) (1.15.0)\n"
          ],
          "name": "stdout"
        }
      ]
    },
    {
      "cell_type": "code",
      "metadata": {
        "id": "suXjCfeKFQ1N"
      },
      "source": [
        "# import libraries for data analysis\n",
        "import pandas as pd\n",
        "\n",
        "# for geo analysis\n",
        "import geopandas as gpd\n",
        "import mapclassify\n",
        "\n",
        "# for data viz\n",
        "import plotly.express as px\n",
        "import matplotlib.pyplot as plt\n",
        "%matplotlib inline\n",
        "\n",
        "# to export files\n",
        "from google.colab import files"
      ],
      "execution_count": 8,
      "outputs": []
    },
    {
      "cell_type": "markdown",
      "metadata": {
        "id": "bqCic6CpOCKn"
      },
      "source": [
        "# import data"
      ]
    },
    {
      "cell_type": "code",
      "metadata": {
        "id": "8ec-_fUAOFAW"
      },
      "source": [
        "# eleection data\n",
        "df_election = pd.read_csv(\"https://raw.githubusercontent.com/jhu-business-analytics/geospatial-analysis-election-data/main/original_data_files/1976-2016-president.csv\")"
      ],
      "execution_count": 9,
      "outputs": []
    },
    {
      "cell_type": "code",
      "metadata": {
        "colab": {
          "base_uri": "https://localhost:8080/",
          "height": 204
        },
        "id": "aYTxYmRPGXz1",
        "outputId": "ad0a7601-e6c7-423b-d7ff-49771a9c8081"
      },
      "source": [
        "# preview\n",
        "df_election.head()"
      ],
      "execution_count": 10,
      "outputs": [
        {
          "output_type": "execute_result",
          "data": {
            "text/html": [
              "<div>\n",
              "<style scoped>\n",
              "    .dataframe tbody tr th:only-of-type {\n",
              "        vertical-align: middle;\n",
              "    }\n",
              "\n",
              "    .dataframe tbody tr th {\n",
              "        vertical-align: top;\n",
              "    }\n",
              "\n",
              "    .dataframe thead th {\n",
              "        text-align: right;\n",
              "    }\n",
              "</style>\n",
              "<table border=\"1\" class=\"dataframe\">\n",
              "  <thead>\n",
              "    <tr style=\"text-align: right;\">\n",
              "      <th></th>\n",
              "      <th>year</th>\n",
              "      <th>state</th>\n",
              "      <th>state_po</th>\n",
              "      <th>state_fips</th>\n",
              "      <th>state_cen</th>\n",
              "      <th>state_ic</th>\n",
              "      <th>office</th>\n",
              "      <th>candidate</th>\n",
              "      <th>party</th>\n",
              "      <th>writein</th>\n",
              "      <th>candidatevotes</th>\n",
              "      <th>totalvotes</th>\n",
              "      <th>version</th>\n",
              "      <th>notes</th>\n",
              "    </tr>\n",
              "  </thead>\n",
              "  <tbody>\n",
              "    <tr>\n",
              "      <th>0</th>\n",
              "      <td>1976</td>\n",
              "      <td>Alabama</td>\n",
              "      <td>AL</td>\n",
              "      <td>1</td>\n",
              "      <td>63</td>\n",
              "      <td>41</td>\n",
              "      <td>US President</td>\n",
              "      <td>Carter, Jimmy</td>\n",
              "      <td>democrat</td>\n",
              "      <td>False</td>\n",
              "      <td>659170</td>\n",
              "      <td>1182850</td>\n",
              "      <td>20171015</td>\n",
              "      <td>NaN</td>\n",
              "    </tr>\n",
              "    <tr>\n",
              "      <th>1</th>\n",
              "      <td>1976</td>\n",
              "      <td>Alabama</td>\n",
              "      <td>AL</td>\n",
              "      <td>1</td>\n",
              "      <td>63</td>\n",
              "      <td>41</td>\n",
              "      <td>US President</td>\n",
              "      <td>Ford, Gerald</td>\n",
              "      <td>republican</td>\n",
              "      <td>False</td>\n",
              "      <td>504070</td>\n",
              "      <td>1182850</td>\n",
              "      <td>20171015</td>\n",
              "      <td>NaN</td>\n",
              "    </tr>\n",
              "    <tr>\n",
              "      <th>2</th>\n",
              "      <td>1976</td>\n",
              "      <td>Alabama</td>\n",
              "      <td>AL</td>\n",
              "      <td>1</td>\n",
              "      <td>63</td>\n",
              "      <td>41</td>\n",
              "      <td>US President</td>\n",
              "      <td>Maddox, Lester</td>\n",
              "      <td>american independent party</td>\n",
              "      <td>False</td>\n",
              "      <td>9198</td>\n",
              "      <td>1182850</td>\n",
              "      <td>20171015</td>\n",
              "      <td>NaN</td>\n",
              "    </tr>\n",
              "    <tr>\n",
              "      <th>3</th>\n",
              "      <td>1976</td>\n",
              "      <td>Alabama</td>\n",
              "      <td>AL</td>\n",
              "      <td>1</td>\n",
              "      <td>63</td>\n",
              "      <td>41</td>\n",
              "      <td>US President</td>\n",
              "      <td>Bubar, Benjamin \"\"Ben\"\"</td>\n",
              "      <td>prohibition</td>\n",
              "      <td>False</td>\n",
              "      <td>6669</td>\n",
              "      <td>1182850</td>\n",
              "      <td>20171015</td>\n",
              "      <td>NaN</td>\n",
              "    </tr>\n",
              "    <tr>\n",
              "      <th>4</th>\n",
              "      <td>1976</td>\n",
              "      <td>Alabama</td>\n",
              "      <td>AL</td>\n",
              "      <td>1</td>\n",
              "      <td>63</td>\n",
              "      <td>41</td>\n",
              "      <td>US President</td>\n",
              "      <td>Hall, Gus</td>\n",
              "      <td>communist party use</td>\n",
              "      <td>False</td>\n",
              "      <td>1954</td>\n",
              "      <td>1182850</td>\n",
              "      <td>20171015</td>\n",
              "      <td>NaN</td>\n",
              "    </tr>\n",
              "  </tbody>\n",
              "</table>\n",
              "</div>"
            ],
            "text/plain": [
              "   year    state state_po  ...  totalvotes   version  notes\n",
              "0  1976  Alabama       AL  ...     1182850  20171015    NaN\n",
              "1  1976  Alabama       AL  ...     1182850  20171015    NaN\n",
              "2  1976  Alabama       AL  ...     1182850  20171015    NaN\n",
              "3  1976  Alabama       AL  ...     1182850  20171015    NaN\n",
              "4  1976  Alabama       AL  ...     1182850  20171015    NaN\n",
              "\n",
              "[5 rows x 14 columns]"
            ]
          },
          "metadata": {
            "tags": []
          },
          "execution_count": 10
        }
      ]
    },
    {
      "cell_type": "code",
      "metadata": {
        "colab": {
          "base_uri": "https://localhost:8080/"
        },
        "id": "d-ncudBVGapH",
        "outputId": "7ccf3a6f-d134-4afc-a7f2-cd8764003a44"
      },
      "source": [
        "# check data types\n",
        "df_election.info()"
      ],
      "execution_count": 11,
      "outputs": [
        {
          "output_type": "stream",
          "text": [
            "<class 'pandas.core.frame.DataFrame'>\n",
            "RangeIndex: 3740 entries, 0 to 3739\n",
            "Data columns (total 14 columns):\n",
            " #   Column          Non-Null Count  Dtype  \n",
            "---  ------          --------------  -----  \n",
            " 0   year            3740 non-null   int64  \n",
            " 1   state           3740 non-null   object \n",
            " 2   state_po        3740 non-null   object \n",
            " 3   state_fips      3740 non-null   int64  \n",
            " 4   state_cen       3740 non-null   int64  \n",
            " 5   state_ic        3740 non-null   int64  \n",
            " 6   office          3740 non-null   object \n",
            " 7   candidate       3474 non-null   object \n",
            " 8   party           3404 non-null   object \n",
            " 9   writein         3740 non-null   bool   \n",
            " 10  candidatevotes  3740 non-null   int64  \n",
            " 11  totalvotes      3740 non-null   int64  \n",
            " 12  version         3740 non-null   int64  \n",
            " 13  notes           0 non-null      float64\n",
            "dtypes: bool(1), float64(1), int64(7), object(5)\n",
            "memory usage: 383.6+ KB\n"
          ],
          "name": "stdout"
        }
      ]
    },
    {
      "cell_type": "markdown",
      "metadata": {
        "id": "sk2JImjNegFv"
      },
      "source": [
        "__NOTE__: Before you can import the shapefile data, you'll need to manually upload the unzipped files from the US State Shapefile from the [US Census](https://www.census.gov/geographies/mapping-files/time-series/geo/carto-boundary-file.html) (the first file download under the __State__ header)"
      ]
    },
    {
      "cell_type": "code",
      "metadata": {
        "id": "7yE9UTh9Gn0w"
      },
      "source": [
        "# import geospatial data\n",
        "gdf_states = gpd.read_file(\"cb_2018_us_state_500k.shp\")"
      ],
      "execution_count": 12,
      "outputs": []
    },
    {
      "cell_type": "code",
      "metadata": {
        "colab": {
          "base_uri": "https://localhost:8080/",
          "height": 204
        },
        "id": "ZRPxc8AgHPPW",
        "outputId": "26691de5-563a-4123-9650-d008449e241e"
      },
      "source": [
        "gdf_states.head()"
      ],
      "execution_count": 13,
      "outputs": [
        {
          "output_type": "execute_result",
          "data": {
            "text/html": [
              "<div>\n",
              "<style scoped>\n",
              "    .dataframe tbody tr th:only-of-type {\n",
              "        vertical-align: middle;\n",
              "    }\n",
              "\n",
              "    .dataframe tbody tr th {\n",
              "        vertical-align: top;\n",
              "    }\n",
              "\n",
              "    .dataframe thead th {\n",
              "        text-align: right;\n",
              "    }\n",
              "</style>\n",
              "<table border=\"1\" class=\"dataframe\">\n",
              "  <thead>\n",
              "    <tr style=\"text-align: right;\">\n",
              "      <th></th>\n",
              "      <th>STATEFP</th>\n",
              "      <th>STATENS</th>\n",
              "      <th>AFFGEOID</th>\n",
              "      <th>GEOID</th>\n",
              "      <th>STUSPS</th>\n",
              "      <th>NAME</th>\n",
              "      <th>LSAD</th>\n",
              "      <th>ALAND</th>\n",
              "      <th>AWATER</th>\n",
              "      <th>geometry</th>\n",
              "    </tr>\n",
              "  </thead>\n",
              "  <tbody>\n",
              "    <tr>\n",
              "      <th>0</th>\n",
              "      <td>28</td>\n",
              "      <td>01779790</td>\n",
              "      <td>0400000US28</td>\n",
              "      <td>28</td>\n",
              "      <td>MS</td>\n",
              "      <td>Mississippi</td>\n",
              "      <td>00</td>\n",
              "      <td>121533519481</td>\n",
              "      <td>3926919758</td>\n",
              "      <td>MULTIPOLYGON (((-88.50297 30.21523, -88.49176 ...</td>\n",
              "    </tr>\n",
              "    <tr>\n",
              "      <th>1</th>\n",
              "      <td>37</td>\n",
              "      <td>01027616</td>\n",
              "      <td>0400000US37</td>\n",
              "      <td>37</td>\n",
              "      <td>NC</td>\n",
              "      <td>North Carolina</td>\n",
              "      <td>00</td>\n",
              "      <td>125923656064</td>\n",
              "      <td>13466071395</td>\n",
              "      <td>MULTIPOLYGON (((-75.72681 35.93584, -75.71827 ...</td>\n",
              "    </tr>\n",
              "    <tr>\n",
              "      <th>2</th>\n",
              "      <td>40</td>\n",
              "      <td>01102857</td>\n",
              "      <td>0400000US40</td>\n",
              "      <td>40</td>\n",
              "      <td>OK</td>\n",
              "      <td>Oklahoma</td>\n",
              "      <td>00</td>\n",
              "      <td>177662925723</td>\n",
              "      <td>3374587997</td>\n",
              "      <td>POLYGON ((-103.00257 36.52659, -103.00219 36.6...</td>\n",
              "    </tr>\n",
              "    <tr>\n",
              "      <th>3</th>\n",
              "      <td>51</td>\n",
              "      <td>01779803</td>\n",
              "      <td>0400000US51</td>\n",
              "      <td>51</td>\n",
              "      <td>VA</td>\n",
              "      <td>Virginia</td>\n",
              "      <td>00</td>\n",
              "      <td>102257717110</td>\n",
              "      <td>8528531774</td>\n",
              "      <td>MULTIPOLYGON (((-75.74241 37.80835, -75.74151 ...</td>\n",
              "    </tr>\n",
              "    <tr>\n",
              "      <th>4</th>\n",
              "      <td>54</td>\n",
              "      <td>01779805</td>\n",
              "      <td>0400000US54</td>\n",
              "      <td>54</td>\n",
              "      <td>WV</td>\n",
              "      <td>West Virginia</td>\n",
              "      <td>00</td>\n",
              "      <td>62266474513</td>\n",
              "      <td>489028543</td>\n",
              "      <td>POLYGON ((-82.64320 38.16909, -82.64300 38.169...</td>\n",
              "    </tr>\n",
              "  </tbody>\n",
              "</table>\n",
              "</div>"
            ],
            "text/plain": [
              "  STATEFP  ...                                           geometry\n",
              "0      28  ...  MULTIPOLYGON (((-88.50297 30.21523, -88.49176 ...\n",
              "1      37  ...  MULTIPOLYGON (((-75.72681 35.93584, -75.71827 ...\n",
              "2      40  ...  POLYGON ((-103.00257 36.52659, -103.00219 36.6...\n",
              "3      51  ...  MULTIPOLYGON (((-75.74241 37.80835, -75.74151 ...\n",
              "4      54  ...  POLYGON ((-82.64320 38.16909, -82.64300 38.169...\n",
              "\n",
              "[5 rows x 10 columns]"
            ]
          },
          "metadata": {
            "tags": []
          },
          "execution_count": 13
        }
      ]
    },
    {
      "cell_type": "code",
      "metadata": {
        "colab": {
          "base_uri": "https://localhost:8080/"
        },
        "id": "BDWNZe3LHQqI",
        "outputId": "a054b3e0-a087-40d5-eec1-a12a23361f85"
      },
      "source": [
        "# look at info\n",
        "gdf_states.info()"
      ],
      "execution_count": 14,
      "outputs": [
        {
          "output_type": "stream",
          "text": [
            "<class 'geopandas.geodataframe.GeoDataFrame'>\n",
            "RangeIndex: 56 entries, 0 to 55\n",
            "Data columns (total 10 columns):\n",
            " #   Column    Non-Null Count  Dtype   \n",
            "---  ------    --------------  -----   \n",
            " 0   STATEFP   56 non-null     object  \n",
            " 1   STATENS   56 non-null     object  \n",
            " 2   AFFGEOID  56 non-null     object  \n",
            " 3   GEOID     56 non-null     object  \n",
            " 4   STUSPS    56 non-null     object  \n",
            " 5   NAME      56 non-null     object  \n",
            " 6   LSAD      56 non-null     object  \n",
            " 7   ALAND     56 non-null     int64   \n",
            " 8   AWATER    56 non-null     int64   \n",
            " 9   geometry  56 non-null     geometry\n",
            "dtypes: geometry(1), int64(2), object(7)\n",
            "memory usage: 4.5+ KB\n"
          ],
          "name": "stdout"
        }
      ]
    },
    {
      "cell_type": "markdown",
      "metadata": {
        "id": "8JROlqOMHql3"
      },
      "source": [
        "# Merge State Polygon Shape Data onto the Election Data"
      ]
    },
    {
      "cell_type": "code",
      "metadata": {
        "id": "Jmi_v5EkHcH7"
      },
      "source": [
        "# convert geo df fips column into an interger so we can merge later\n",
        "gdf_states[\"STATEFP\"] = gdf_states[\"STATEFP\"].astype(int)"
      ],
      "execution_count": 15,
      "outputs": []
    },
    {
      "cell_type": "code",
      "metadata": {
        "id": "4s-5GIMoIAii"
      },
      "source": [
        "# creating a new gdf of polygon and election data\n",
        "# merge state data onto the elction data on the column contining the fips code\n",
        "gdf_election = gdf_states.merge(df_election,\n",
        "                                how = \"right\",\n",
        "                                left_on = \"STATEFP\",\n",
        "                                right_on = \"state_fips\")"
      ],
      "execution_count": 16,
      "outputs": []
    },
    {
      "cell_type": "code",
      "metadata": {
        "colab": {
          "base_uri": "https://localhost:8080/",
          "height": 479
        },
        "id": "_uKAS4EmIkQ7",
        "outputId": "005b16ed-4da7-46c7-bb02-1bb19a850196"
      },
      "source": [
        "gdf_election.head()"
      ],
      "execution_count": 17,
      "outputs": [
        {
          "output_type": "execute_result",
          "data": {
            "text/html": [
              "<div>\n",
              "<style scoped>\n",
              "    .dataframe tbody tr th:only-of-type {\n",
              "        vertical-align: middle;\n",
              "    }\n",
              "\n",
              "    .dataframe tbody tr th {\n",
              "        vertical-align: top;\n",
              "    }\n",
              "\n",
              "    .dataframe thead th {\n",
              "        text-align: right;\n",
              "    }\n",
              "</style>\n",
              "<table border=\"1\" class=\"dataframe\">\n",
              "  <thead>\n",
              "    <tr style=\"text-align: right;\">\n",
              "      <th></th>\n",
              "      <th>STATEFP</th>\n",
              "      <th>STATENS</th>\n",
              "      <th>AFFGEOID</th>\n",
              "      <th>GEOID</th>\n",
              "      <th>STUSPS</th>\n",
              "      <th>NAME</th>\n",
              "      <th>LSAD</th>\n",
              "      <th>ALAND</th>\n",
              "      <th>AWATER</th>\n",
              "      <th>geometry</th>\n",
              "      <th>year</th>\n",
              "      <th>state</th>\n",
              "      <th>state_po</th>\n",
              "      <th>state_fips</th>\n",
              "      <th>state_cen</th>\n",
              "      <th>state_ic</th>\n",
              "      <th>office</th>\n",
              "      <th>candidate</th>\n",
              "      <th>party</th>\n",
              "      <th>writein</th>\n",
              "      <th>candidatevotes</th>\n",
              "      <th>totalvotes</th>\n",
              "      <th>version</th>\n",
              "      <th>notes</th>\n",
              "    </tr>\n",
              "  </thead>\n",
              "  <tbody>\n",
              "    <tr>\n",
              "      <th>0</th>\n",
              "      <td>1</td>\n",
              "      <td>01779775</td>\n",
              "      <td>0400000US01</td>\n",
              "      <td>01</td>\n",
              "      <td>AL</td>\n",
              "      <td>Alabama</td>\n",
              "      <td>00</td>\n",
              "      <td>131174048583</td>\n",
              "      <td>4593327154</td>\n",
              "      <td>MULTIPOLYGON (((-88.05338 30.50699, -88.05109 ...</td>\n",
              "      <td>1976</td>\n",
              "      <td>Alabama</td>\n",
              "      <td>AL</td>\n",
              "      <td>1</td>\n",
              "      <td>63</td>\n",
              "      <td>41</td>\n",
              "      <td>US President</td>\n",
              "      <td>Carter, Jimmy</td>\n",
              "      <td>democrat</td>\n",
              "      <td>False</td>\n",
              "      <td>659170</td>\n",
              "      <td>1182850</td>\n",
              "      <td>20171015</td>\n",
              "      <td>NaN</td>\n",
              "    </tr>\n",
              "    <tr>\n",
              "      <th>1</th>\n",
              "      <td>1</td>\n",
              "      <td>01779775</td>\n",
              "      <td>0400000US01</td>\n",
              "      <td>01</td>\n",
              "      <td>AL</td>\n",
              "      <td>Alabama</td>\n",
              "      <td>00</td>\n",
              "      <td>131174048583</td>\n",
              "      <td>4593327154</td>\n",
              "      <td>MULTIPOLYGON (((-88.05338 30.50699, -88.05109 ...</td>\n",
              "      <td>1976</td>\n",
              "      <td>Alabama</td>\n",
              "      <td>AL</td>\n",
              "      <td>1</td>\n",
              "      <td>63</td>\n",
              "      <td>41</td>\n",
              "      <td>US President</td>\n",
              "      <td>Ford, Gerald</td>\n",
              "      <td>republican</td>\n",
              "      <td>False</td>\n",
              "      <td>504070</td>\n",
              "      <td>1182850</td>\n",
              "      <td>20171015</td>\n",
              "      <td>NaN</td>\n",
              "    </tr>\n",
              "    <tr>\n",
              "      <th>2</th>\n",
              "      <td>1</td>\n",
              "      <td>01779775</td>\n",
              "      <td>0400000US01</td>\n",
              "      <td>01</td>\n",
              "      <td>AL</td>\n",
              "      <td>Alabama</td>\n",
              "      <td>00</td>\n",
              "      <td>131174048583</td>\n",
              "      <td>4593327154</td>\n",
              "      <td>MULTIPOLYGON (((-88.05338 30.50699, -88.05109 ...</td>\n",
              "      <td>1976</td>\n",
              "      <td>Alabama</td>\n",
              "      <td>AL</td>\n",
              "      <td>1</td>\n",
              "      <td>63</td>\n",
              "      <td>41</td>\n",
              "      <td>US President</td>\n",
              "      <td>Maddox, Lester</td>\n",
              "      <td>american independent party</td>\n",
              "      <td>False</td>\n",
              "      <td>9198</td>\n",
              "      <td>1182850</td>\n",
              "      <td>20171015</td>\n",
              "      <td>NaN</td>\n",
              "    </tr>\n",
              "    <tr>\n",
              "      <th>3</th>\n",
              "      <td>1</td>\n",
              "      <td>01779775</td>\n",
              "      <td>0400000US01</td>\n",
              "      <td>01</td>\n",
              "      <td>AL</td>\n",
              "      <td>Alabama</td>\n",
              "      <td>00</td>\n",
              "      <td>131174048583</td>\n",
              "      <td>4593327154</td>\n",
              "      <td>MULTIPOLYGON (((-88.05338 30.50699, -88.05109 ...</td>\n",
              "      <td>1976</td>\n",
              "      <td>Alabama</td>\n",
              "      <td>AL</td>\n",
              "      <td>1</td>\n",
              "      <td>63</td>\n",
              "      <td>41</td>\n",
              "      <td>US President</td>\n",
              "      <td>Bubar, Benjamin \"\"Ben\"\"</td>\n",
              "      <td>prohibition</td>\n",
              "      <td>False</td>\n",
              "      <td>6669</td>\n",
              "      <td>1182850</td>\n",
              "      <td>20171015</td>\n",
              "      <td>NaN</td>\n",
              "    </tr>\n",
              "    <tr>\n",
              "      <th>4</th>\n",
              "      <td>1</td>\n",
              "      <td>01779775</td>\n",
              "      <td>0400000US01</td>\n",
              "      <td>01</td>\n",
              "      <td>AL</td>\n",
              "      <td>Alabama</td>\n",
              "      <td>00</td>\n",
              "      <td>131174048583</td>\n",
              "      <td>4593327154</td>\n",
              "      <td>MULTIPOLYGON (((-88.05338 30.50699, -88.05109 ...</td>\n",
              "      <td>1976</td>\n",
              "      <td>Alabama</td>\n",
              "      <td>AL</td>\n",
              "      <td>1</td>\n",
              "      <td>63</td>\n",
              "      <td>41</td>\n",
              "      <td>US President</td>\n",
              "      <td>Hall, Gus</td>\n",
              "      <td>communist party use</td>\n",
              "      <td>False</td>\n",
              "      <td>1954</td>\n",
              "      <td>1182850</td>\n",
              "      <td>20171015</td>\n",
              "      <td>NaN</td>\n",
              "    </tr>\n",
              "  </tbody>\n",
              "</table>\n",
              "</div>"
            ],
            "text/plain": [
              "   STATEFP   STATENS     AFFGEOID  ... totalvotes   version notes\n",
              "0        1  01779775  0400000US01  ...    1182850  20171015   NaN\n",
              "1        1  01779775  0400000US01  ...    1182850  20171015   NaN\n",
              "2        1  01779775  0400000US01  ...    1182850  20171015   NaN\n",
              "3        1  01779775  0400000US01  ...    1182850  20171015   NaN\n",
              "4        1  01779775  0400000US01  ...    1182850  20171015   NaN\n",
              "\n",
              "[5 rows x 24 columns]"
            ]
          },
          "metadata": {
            "tags": []
          },
          "execution_count": 17
        }
      ]
    },
    {
      "cell_type": "code",
      "metadata": {
        "id": "r83tOi4QIlkE"
      },
      "source": [
        "# create a new column that is the percent of votes for each party\n",
        "gdf_election[\"percent_votes\"] = (gdf_election[\"candidatevotes\"]/gdf_election[\"totalvotes\"])*100"
      ],
      "execution_count": 18,
      "outputs": []
    },
    {
      "cell_type": "markdown",
      "metadata": {
        "id": "UZGK_WL5Jh5M"
      },
      "source": [
        "# 2016 US State Election Maps"
      ]
    },
    {
      "cell_type": "markdown",
      "metadata": {
        "id": "OHE5PC7iJktV"
      },
      "source": [
        "## data cleaning"
      ]
    },
    {
      "cell_type": "code",
      "metadata": {
        "id": "FkvK90NzJZmX"
      },
      "source": [
        "# create gdf of only 2016 and one party to make easier for data viz\n",
        "gdf_election_2016 = gdf_election[(gdf_election[\"year\"] == 2016) & (gdf_election[\"party\"] == \"republican\")]"
      ],
      "execution_count": 19,
      "outputs": []
    },
    {
      "cell_type": "code",
      "metadata": {
        "colab": {
          "base_uri": "https://localhost:8080/",
          "height": 513
        },
        "id": "L88g9CDOKazM",
        "outputId": "245e8063-10a9-486d-ea53-bb01e9d085aa"
      },
      "source": [
        "# preview the data\n",
        "gdf_election_2016.head()"
      ],
      "execution_count": 20,
      "outputs": [
        {
          "output_type": "execute_result",
          "data": {
            "text/html": [
              "<div>\n",
              "<style scoped>\n",
              "    .dataframe tbody tr th:only-of-type {\n",
              "        vertical-align: middle;\n",
              "    }\n",
              "\n",
              "    .dataframe tbody tr th {\n",
              "        vertical-align: top;\n",
              "    }\n",
              "\n",
              "    .dataframe thead th {\n",
              "        text-align: right;\n",
              "    }\n",
              "</style>\n",
              "<table border=\"1\" class=\"dataframe\">\n",
              "  <thead>\n",
              "    <tr style=\"text-align: right;\">\n",
              "      <th></th>\n",
              "      <th>STATEFP</th>\n",
              "      <th>STATENS</th>\n",
              "      <th>AFFGEOID</th>\n",
              "      <th>GEOID</th>\n",
              "      <th>STUSPS</th>\n",
              "      <th>NAME</th>\n",
              "      <th>LSAD</th>\n",
              "      <th>ALAND</th>\n",
              "      <th>AWATER</th>\n",
              "      <th>geometry</th>\n",
              "      <th>year</th>\n",
              "      <th>state</th>\n",
              "      <th>state_po</th>\n",
              "      <th>state_fips</th>\n",
              "      <th>state_cen</th>\n",
              "      <th>state_ic</th>\n",
              "      <th>office</th>\n",
              "      <th>candidate</th>\n",
              "      <th>party</th>\n",
              "      <th>writein</th>\n",
              "      <th>candidatevotes</th>\n",
              "      <th>totalvotes</th>\n",
              "      <th>version</th>\n",
              "      <th>notes</th>\n",
              "      <th>percent_votes</th>\n",
              "    </tr>\n",
              "  </thead>\n",
              "  <tbody>\n",
              "    <tr>\n",
              "      <th>58</th>\n",
              "      <td>1</td>\n",
              "      <td>01779775</td>\n",
              "      <td>0400000US01</td>\n",
              "      <td>01</td>\n",
              "      <td>AL</td>\n",
              "      <td>Alabama</td>\n",
              "      <td>00</td>\n",
              "      <td>131174048583</td>\n",
              "      <td>4593327154</td>\n",
              "      <td>MULTIPOLYGON (((-88.05338 30.50699, -88.05109 ...</td>\n",
              "      <td>2016</td>\n",
              "      <td>Alabama</td>\n",
              "      <td>AL</td>\n",
              "      <td>1</td>\n",
              "      <td>63</td>\n",
              "      <td>41</td>\n",
              "      <td>US President</td>\n",
              "      <td>Trump, Donald J.</td>\n",
              "      <td>republican</td>\n",
              "      <td>False</td>\n",
              "      <td>1318255</td>\n",
              "      <td>2123372</td>\n",
              "      <td>20171015</td>\n",
              "      <td>NaN</td>\n",
              "      <td>62.083092</td>\n",
              "    </tr>\n",
              "    <tr>\n",
              "      <th>126</th>\n",
              "      <td>2</td>\n",
              "      <td>01785533</td>\n",
              "      <td>0400000US02</td>\n",
              "      <td>02</td>\n",
              "      <td>AK</td>\n",
              "      <td>Alaska</td>\n",
              "      <td>00</td>\n",
              "      <td>1478839695958</td>\n",
              "      <td>245481577452</td>\n",
              "      <td>MULTIPOLYGON (((179.48246 51.98283, 179.48656 ...</td>\n",
              "      <td>2016</td>\n",
              "      <td>Alaska</td>\n",
              "      <td>AK</td>\n",
              "      <td>2</td>\n",
              "      <td>94</td>\n",
              "      <td>81</td>\n",
              "      <td>US President</td>\n",
              "      <td>Trump, Donald J.</td>\n",
              "      <td>republican</td>\n",
              "      <td>False</td>\n",
              "      <td>163387</td>\n",
              "      <td>318608</td>\n",
              "      <td>20171015</td>\n",
              "      <td>NaN</td>\n",
              "      <td>51.281512</td>\n",
              "    </tr>\n",
              "    <tr>\n",
              "      <th>194</th>\n",
              "      <td>4</td>\n",
              "      <td>01779777</td>\n",
              "      <td>0400000US04</td>\n",
              "      <td>04</td>\n",
              "      <td>AZ</td>\n",
              "      <td>Arizona</td>\n",
              "      <td>00</td>\n",
              "      <td>294198551143</td>\n",
              "      <td>1027337603</td>\n",
              "      <td>POLYGON ((-114.81629 32.50804, -114.81432 32.5...</td>\n",
              "      <td>2016</td>\n",
              "      <td>Arizona</td>\n",
              "      <td>AZ</td>\n",
              "      <td>4</td>\n",
              "      <td>86</td>\n",
              "      <td>61</td>\n",
              "      <td>US President</td>\n",
              "      <td>Trump, Donald J.</td>\n",
              "      <td>republican</td>\n",
              "      <td>False</td>\n",
              "      <td>1252401</td>\n",
              "      <td>2573165</td>\n",
              "      <td>20171015</td>\n",
              "      <td>NaN</td>\n",
              "      <td>48.671616</td>\n",
              "    </tr>\n",
              "    <tr>\n",
              "      <th>273</th>\n",
              "      <td>5</td>\n",
              "      <td>00068085</td>\n",
              "      <td>0400000US05</td>\n",
              "      <td>05</td>\n",
              "      <td>AR</td>\n",
              "      <td>Arkansas</td>\n",
              "      <td>00</td>\n",
              "      <td>134768872727</td>\n",
              "      <td>2962859592</td>\n",
              "      <td>POLYGON ((-94.61783 36.49941, -94.61765 36.499...</td>\n",
              "      <td>2016</td>\n",
              "      <td>Arkansas</td>\n",
              "      <td>AR</td>\n",
              "      <td>5</td>\n",
              "      <td>71</td>\n",
              "      <td>42</td>\n",
              "      <td>US President</td>\n",
              "      <td>Trump, Donald J.</td>\n",
              "      <td>republican</td>\n",
              "      <td>False</td>\n",
              "      <td>684872</td>\n",
              "      <td>1130635</td>\n",
              "      <td>20171015</td>\n",
              "      <td>NaN</td>\n",
              "      <td>60.574102</td>\n",
              "    </tr>\n",
              "    <tr>\n",
              "      <th>350</th>\n",
              "      <td>6</td>\n",
              "      <td>01779778</td>\n",
              "      <td>0400000US06</td>\n",
              "      <td>06</td>\n",
              "      <td>CA</td>\n",
              "      <td>California</td>\n",
              "      <td>00</td>\n",
              "      <td>403503931312</td>\n",
              "      <td>20463871877</td>\n",
              "      <td>MULTIPOLYGON (((-118.60442 33.47855, -118.5987...</td>\n",
              "      <td>2016</td>\n",
              "      <td>California</td>\n",
              "      <td>CA</td>\n",
              "      <td>6</td>\n",
              "      <td>93</td>\n",
              "      <td>71</td>\n",
              "      <td>US President</td>\n",
              "      <td>Trump, Donald J.</td>\n",
              "      <td>republican</td>\n",
              "      <td>False</td>\n",
              "      <td>4483810</td>\n",
              "      <td>14181595</td>\n",
              "      <td>20171015</td>\n",
              "      <td>NaN</td>\n",
              "      <td>31.617107</td>\n",
              "    </tr>\n",
              "  </tbody>\n",
              "</table>\n",
              "</div>"
            ],
            "text/plain": [
              "     STATEFP   STATENS     AFFGEOID  ...   version notes percent_votes\n",
              "58         1  01779775  0400000US01  ...  20171015   NaN     62.083092\n",
              "126        2  01785533  0400000US02  ...  20171015   NaN     51.281512\n",
              "194        4  01779777  0400000US04  ...  20171015   NaN     48.671616\n",
              "273        5  00068085  0400000US05  ...  20171015   NaN     60.574102\n",
              "350        6  01779778  0400000US06  ...  20171015   NaN     31.617107\n",
              "\n",
              "[5 rows x 25 columns]"
            ]
          },
          "metadata": {
            "tags": []
          },
          "execution_count": 20
        }
      ]
    },
    {
      "cell_type": "markdown",
      "metadata": {
        "id": "hPXJ8h9QKmAR"
      },
      "source": [
        "# create a map with geopandas"
      ]
    },
    {
      "cell_type": "code",
      "metadata": {
        "colab": {
          "base_uri": "https://localhost:8080/",
          "height": 430
        },
        "id": "HestKtwtKcuF",
        "outputId": "da82ec23-0740-46b0-8231-0f780e659d42"
      },
      "source": [
        "# choropleth maps\n",
        "\n",
        "# define the figure and the legend\n",
        "fig, ax = plt.subplots(figsize= (50, 10))\n",
        "\n",
        "# plot with gdf\n",
        "gdf_election_2016.plot(column = \"percent_votes\",\n",
        "                       ax = ax,\n",
        "                       legend = True,\n",
        "                       cmap = \"hot\",\n",
        "                       scheme = \"User_Defined\",\n",
        "                       classification_kwds = dict(bins = [10, 20, 30, 40, 50, 60, 70,80,90,100]))\n",
        "\n",
        "# add a title\n",
        "plt.title(\"Distribution of Dem/Rep Votes in US Presidential Election, 2016\")\n",
        "\n"
      ],
      "execution_count": 21,
      "outputs": [
        {
          "output_type": "execute_result",
          "data": {
            "text/plain": [
              "Text(0.5, 1.0, 'Distribution of Dem/Rep Votes in US Presidential Election, 2016')"
            ]
          },
          "metadata": {
            "tags": []
          },
          "execution_count": 21
        },
        {
          "output_type": "display_data",
          "data": {
            "image/png": "[encoded data removed]",
            "text/plain": [
              "<Figure size 3600x720 with 1 Axes>"
            ]
          },
          "metadata": {
            "tags": [],
            "needs_background": "light"
          }
        }
      ]
    },
    {
      "cell_type": "markdown",
      "metadata": {
        "id": "d28IuWDPNJKn"
      },
      "source": [
        "## create a map with plotly express"
      ]
    },
    {
      "cell_type": "code",
      "metadata": {
        "id": "EbU5K7MHL0xl"
      },
      "source": [
        "# make a choropleth with plotly express\n",
        "\n",
        "choropleth_election_2016 = px.choropleth(gdf_election_2016,\n",
        "                                         locationmode = \"USA-states\",\n",
        "                                         locations = \"state_po\",\n",
        "                                         color = \"percent_votes\",\n",
        "                                         color_continuous_scale = [(0, \"blue\"), (0.5, \"purple\"), (1, \"red\")],\n",
        "                                         range_color = (0, 100),\n",
        "                                         labels = {\"state_po\": \"State\", \"percent_votes\": \"Percent Republican Votes\"})"
      ],
      "execution_count": 22,
      "outputs": []
    },
    {
      "cell_type": "code",
      "metadata": {
        "colab": {
          "base_uri": "https://localhost:8080/",
          "height": 542
        },
        "id": "XrDT6IU7OTf6",
        "outputId": "93b5e2d4-ec28-4a86-ba81-e84f36b6b8c5"
      },
      "source": [
        "choropleth_election_2016.update_layout(geo_scope = \"usa\",\n",
        "                                       title = \"Distribution of Dem/Rep Votes in US Presidential Election, 2016\")"
      ],
      "execution_count": 23,
      "outputs": [
        {
          "output_type": "display_data",
          "data": {
            "text/html": [
              "<html>\n",
              "<head><meta charset=\"utf-8\" /></head>\n",
              "<body>\n",
              "    <div>\n",
              "            <script src=\"https://cdnjs.cloudflare.com/ajax/libs/mathjax/2.7.5/MathJax.js?config=TeX-AMS-MML_SVG\"></script><script type=\"text/javascript\">if (window.MathJax) {MathJax.Hub.Config({SVG: {font: \"STIX-Web\"}});}</script>\n",
              "                <script type=\"text/javascript\">window.PlotlyConfig = {MathJaxConfig: 'local'};</script>\n",
              "        <script src=\"https://cdn.plot.ly/plotly-latest.min.js\"></script>    \n",
              "            <div id=\"fc7ff606-517c-44b4-855a-1bd0e7d0e025\" class=\"plotly-graph-div\" style=\"height:525px; width:100%;\"></div>\n",
              "            <script type=\"text/javascript\">\n",
              "                \n",
              "                    window.PLOTLYENV=window.PLOTLYENV || {};\n",
              "                    \n",
              "                if (document.getElementById(\"fc7ff606-517c-44b4-855a-1bd0e7d0e025\")) {\n",
              "                    Plotly.newPlot(\n",
              "                        'fc7ff606-517c-44b4-855a-1bd0e7d0e025',\n",
              "                        [{\"coloraxis\": \"coloraxis\", \"geo\": \"geo\", \"hoverlabel\": {\"namelength\": 0}, \"hovertemplate\": \"State=%{location}<br>Percent Republican Votes=%{z}\", \"locationmode\": \"USA-states\", \"locations\": [\"AL\", \"AK\", \"AZ\", \"AR\", \"CA\", \"CO\", \"CT\", \"DE\", \"DC\", \"FL\", \"GA\", \"HI\", \"ID\", \"IL\", \"IN\", \"IA\", \"KS\", \"KY\", \"LA\", \"ME\", \"MD\", \"MD\", \"MA\", \"MI\", \"MN\", \"MS\", \"MO\", \"MT\", \"NE\", \"NV\", \"NH\", \"NJ\", \"NM\", \"NY\", \"NC\", \"ND\", \"OH\", \"OK\", \"OR\", \"PA\", \"RI\", \"SC\", \"SD\", \"TN\", \"TX\", \"UT\", \"VT\", \"VA\", \"WA\", \"WV\", \"WI\", \"WY\"], \"name\": \"\", \"type\": \"choropleth\", \"z\": [62.08309236440906, 51.281512077537286, 48.67161647232105, 60.57410216382829, 31.617106538439433, 43.25139737143104, 40.92691437881478, 41.92282433931928, 4.070383108054067, 49.021941416590735, 50.771326054771, 29.439707172625575, 59.26143236919689, 38.761753073825275, 56.94003344841128, 51.16206134467737, 56.65458180583958, 62.519638551900094, 58.0886846535688, 43.476678084498865, 33.90930472854767, 0.009311703337041238, 32.28620279085515, 47.49756421999615, 44.92519310427733, 57.94103808883564, 56.77234783816165, 56.466191868577184, 58.74735112712576, 45.50069531760242, 46.458666981953414, 41.35038665002945, 40.04251433324272, 32.390602305742924, 49.828094696180415, 62.9556278313393, 51.68765067578619, 65.32286481962736, 39.094035184496754, 48.57788580374602, 38.898057499396735, 54.93933268569543, 61.5307503789588, 60.722033694214616, 52.234685579335384, 45.54081658810042, 29.759382401308095, 44.427647013924044, 36.83268018663746, 68.63057481161935, 47.21818456731012, 67.3984110546084]}],\n",
              "                        {\"coloraxis\": {\"cmax\": 100, \"cmin\": 0, \"colorbar\": {\"title\": {\"text\": \"Percent Republican Votes\"}}, \"colorscale\": [[0, \"blue\"], [0.5, \"purple\"], [1, \"red\"]]}, \"geo\": {\"center\": {}, \"domain\": {\"x\": [0.0, 1.0], \"y\": [0.0, 1.0]}, \"scope\": \"usa\"}, \"legend\": {\"tracegroupgap\": 0}, \"margin\": {\"t\": 60}, \"template\": {\"data\": {\"bar\": [{\"error_x\": {\"color\": \"#2a3f5f\"}, \"error_y\": {\"color\": \"#2a3f5f\"}, \"marker\": {\"line\": {\"color\": \"#E5ECF6\", \"width\": 0.5}}, \"type\": \"bar\"}], \"barpolar\": [{\"marker\": {\"line\": {\"color\": \"#E5ECF6\", \"width\": 0.5}}, \"type\": \"barpolar\"}], \"carpet\": [{\"aaxis\": {\"endlinecolor\": \"#2a3f5f\", \"gridcolor\": \"white\", \"linecolor\": \"white\", \"minorgridcolor\": \"white\", \"startlinecolor\": \"#2a3f5f\"}, \"baxis\": {\"endlinecolor\": \"#2a3f5f\", \"gridcolor\": \"white\", \"linecolor\": \"white\", \"minorgridcolor\": \"white\", \"startlinecolor\": \"#2a3f5f\"}, \"type\": \"carpet\"}], \"choropleth\": [{\"colorbar\": {\"outlinewidth\": 0, \"ticks\": \"\"}, \"type\": \"choropleth\"}], \"contour\": [{\"colorbar\": {\"outlinewidth\": 0, \"ticks\": \"\"}, \"colorscale\": [[0.0, \"#0d0887\"], [0.1111111111111111, \"#46039f\"], [0.2222222222222222, \"#7201a8\"], [0.3333333333333333, \"#9c179e\"], [0.4444444444444444, \"#bd3786\"], [0.5555555555555556, \"#d8576b\"], [0.6666666666666666, \"#ed7953\"], [0.7777777777777778, \"#fb9f3a\"], [0.8888888888888888, \"#fdca26\"], [1.0, \"#f0f921\"]], \"type\": \"contour\"}], \"contourcarpet\": [{\"colorbar\": {\"outlinewidth\": 0, \"ticks\": \"\"}, \"type\": \"contourcarpet\"}], \"heatmap\": [{\"colorbar\": {\"outlinewidth\": 0, \"ticks\": \"\"}, \"colorscale\": [[0.0, \"#0d0887\"], [0.1111111111111111, \"#46039f\"], [0.2222222222222222, \"#7201a8\"], [0.3333333333333333, \"#9c179e\"], [0.4444444444444444, \"#bd3786\"], [0.5555555555555556, \"#d8576b\"], [0.6666666666666666, \"#ed7953\"], [0.7777777777777778, \"#fb9f3a\"], [0.8888888888888888, \"#fdca26\"], [1.0, \"#f0f921\"]], \"type\": \"heatmap\"}], \"heatmapgl\": [{\"colorbar\": {\"outlinewidth\": 0, \"ticks\": \"\"}, \"colorscale\": [[0.0, \"#0d0887\"], [0.1111111111111111, \"#46039f\"], [0.2222222222222222, \"#7201a8\"], [0.3333333333333333, \"#9c179e\"], [0.4444444444444444, \"#bd3786\"], [0.5555555555555556, \"#d8576b\"], [0.6666666666666666, \"#ed7953\"], [0.7777777777777778, \"#fb9f3a\"], [0.8888888888888888, \"#fdca26\"], [1.0, \"#f0f921\"]], \"type\": \"heatmapgl\"}], \"histogram\": [{\"marker\": {\"colorbar\": {\"outlinewidth\": 0, \"ticks\": \"\"}}, \"type\": \"histogram\"}], \"histogram2d\": [{\"colorbar\": {\"outlinewidth\": 0, \"ticks\": \"\"}, \"colorscale\": [[0.0, \"#0d0887\"], [0.1111111111111111, \"#46039f\"], [0.2222222222222222, \"#7201a8\"], [0.3333333333333333, \"#9c179e\"], [0.4444444444444444, \"#bd3786\"], [0.5555555555555556, \"#d8576b\"], [0.6666666666666666, \"#ed7953\"], [0.7777777777777778, \"#fb9f3a\"], [0.8888888888888888, \"#fdca26\"], [1.0, \"#f0f921\"]], \"type\": \"histogram2d\"}], \"histogram2dcontour\": [{\"colorbar\": {\"outlinewidth\": 0, \"ticks\": \"\"}, \"colorscale\": [[0.0, \"#0d0887\"], [0.1111111111111111, \"#46039f\"], [0.2222222222222222, \"#7201a8\"], [0.3333333333333333, \"#9c179e\"], [0.4444444444444444, \"#bd3786\"], [0.5555555555555556, \"#d8576b\"], [0.6666666666666666, \"#ed7953\"], [0.7777777777777778, \"#fb9f3a\"], [0.8888888888888888, \"#fdca26\"], [1.0, \"#f0f921\"]], \"type\": \"histogram2dcontour\"}], \"mesh3d\": [{\"colorbar\": {\"outlinewidth\": 0, \"ticks\": \"\"}, \"type\": \"mesh3d\"}], \"parcoords\": [{\"line\": {\"colorbar\": {\"outlinewidth\": 0, \"ticks\": \"\"}}, \"type\": \"parcoords\"}], \"pie\": [{\"automargin\": true, \"type\": \"pie\"}], \"scatter\": [{\"marker\": {\"colorbar\": {\"outlinewidth\": 0, \"ticks\": \"\"}}, \"type\": \"scatter\"}], \"scatter3d\": [{\"line\": {\"colorbar\": {\"outlinewidth\": 0, \"ticks\": \"\"}}, \"marker\": {\"colorbar\": {\"outlinewidth\": 0, \"ticks\": \"\"}}, \"type\": \"scatter3d\"}], \"scattercarpet\": [{\"marker\": {\"colorbar\": {\"outlinewidth\": 0, \"ticks\": \"\"}}, \"type\": \"scattercarpet\"}], \"scattergeo\": [{\"marker\": {\"colorbar\": {\"outlinewidth\": 0, \"ticks\": \"\"}}, \"type\": \"scattergeo\"}], \"scattergl\": [{\"marker\": {\"colorbar\": {\"outlinewidth\": 0, \"ticks\": \"\"}}, \"type\": \"scattergl\"}], \"scattermapbox\": [{\"marker\": {\"colorbar\": {\"outlinewidth\": 0, \"ticks\": \"\"}}, \"type\": \"scattermapbox\"}], \"scatterpolar\": [{\"marker\": {\"colorbar\": {\"outlinewidth\": 0, \"ticks\": \"\"}}, \"type\": \"scatterpolar\"}], \"scatterpolargl\": [{\"marker\": {\"colorbar\": {\"outlinewidth\": 0, \"ticks\": \"\"}}, \"type\": \"scatterpolargl\"}], \"scatterternary\": [{\"marker\": {\"colorbar\": {\"outlinewidth\": 0, \"ticks\": \"\"}}, \"type\": \"scatterternary\"}], \"surface\": [{\"colorbar\": {\"outlinewidth\": 0, \"ticks\": \"\"}, \"colorscale\": [[0.0, \"#0d0887\"], [0.1111111111111111, \"#46039f\"], [0.2222222222222222, \"#7201a8\"], [0.3333333333333333, \"#9c179e\"], [0.4444444444444444, \"#bd3786\"], [0.5555555555555556, \"#d8576b\"], [0.6666666666666666, \"#ed7953\"], [0.7777777777777778, \"#fb9f3a\"], [0.8888888888888888, \"#fdca26\"], [1.0, \"#f0f921\"]], \"type\": \"surface\"}], \"table\": [{\"cells\": {\"fill\": {\"color\": \"#EBF0F8\"}, \"line\": {\"color\": \"white\"}}, \"header\": {\"fill\": {\"color\": \"#C8D4E3\"}, \"line\": {\"color\": \"white\"}}, \"type\": \"table\"}]}, \"layout\": {\"annotationdefaults\": {\"arrowcolor\": \"#2a3f5f\", \"arrowhead\": 0, \"arrowwidth\": 1}, \"coloraxis\": {\"colorbar\": {\"outlinewidth\": 0, \"ticks\": \"\"}}, \"colorscale\": {\"diverging\": [[0, \"#8e0152\"], [0.1, \"#c51b7d\"], [0.2, \"#de77ae\"], [0.3, \"#f1b6da\"], [0.4, \"#fde0ef\"], [0.5, \"#f7f7f7\"], [0.6, \"#e6f5d0\"], [0.7, \"#b8e186\"], [0.8, \"#7fbc41\"], [0.9, \"#4d9221\"], [1, \"#276419\"]], \"sequential\": [[0.0, \"#0d0887\"], [0.1111111111111111, \"#46039f\"], [0.2222222222222222, \"#7201a8\"], [0.3333333333333333, \"#9c179e\"], [0.4444444444444444, \"#bd3786\"], [0.5555555555555556, \"#d8576b\"], [0.6666666666666666, \"#ed7953\"], [0.7777777777777778, \"#fb9f3a\"], [0.8888888888888888, \"#fdca26\"], [1.0, \"#f0f921\"]], \"sequentialminus\": [[0.0, \"#0d0887\"], [0.1111111111111111, \"#46039f\"], [0.2222222222222222, \"#7201a8\"], [0.3333333333333333, \"#9c179e\"], [0.4444444444444444, \"#bd3786\"], [0.5555555555555556, \"#d8576b\"], [0.6666666666666666, \"#ed7953\"], [0.7777777777777778, \"#fb9f3a\"], [0.8888888888888888, \"#fdca26\"], [1.0, \"#f0f921\"]]}, \"colorway\": [\"#636efa\", \"#EF553B\", \"#00cc96\", \"#ab63fa\", \"#FFA15A\", \"#19d3f3\", \"#FF6692\", \"#B6E880\", \"#FF97FF\", \"#FECB52\"], \"font\": {\"color\": \"#2a3f5f\"}, \"geo\": {\"bgcolor\": \"white\", \"lakecolor\": \"white\", \"landcolor\": \"#E5ECF6\", \"showlakes\": true, \"showland\": true, \"subunitcolor\": \"white\"}, \"hoverlabel\": {\"align\": \"left\"}, \"hovermode\": \"closest\", \"mapbox\": {\"style\": \"light\"}, \"paper_bgcolor\": \"white\", \"plot_bgcolor\": \"#E5ECF6\", \"polar\": {\"angularaxis\": {\"gridcolor\": \"white\", \"linecolor\": \"white\", \"ticks\": \"\"}, \"bgcolor\": \"#E5ECF6\", \"radialaxis\": {\"gridcolor\": \"white\", \"linecolor\": \"white\", \"ticks\": \"\"}}, \"scene\": {\"xaxis\": {\"backgroundcolor\": \"#E5ECF6\", \"gridcolor\": \"white\", \"gridwidth\": 2, \"linecolor\": \"white\", \"showbackground\": true, \"ticks\": \"\", \"zerolinecolor\": \"white\"}, \"yaxis\": {\"backgroundcolor\": \"#E5ECF6\", \"gridcolor\": \"white\", \"gridwidth\": 2, \"linecolor\": \"white\", \"showbackground\": true, \"ticks\": \"\", \"zerolinecolor\": \"white\"}, \"zaxis\": {\"backgroundcolor\": \"#E5ECF6\", \"gridcolor\": \"white\", \"gridwidth\": 2, \"linecolor\": \"white\", \"showbackground\": true, \"ticks\": \"\", \"zerolinecolor\": \"white\"}}, \"shapedefaults\": {\"line\": {\"color\": \"#2a3f5f\"}}, \"ternary\": {\"aaxis\": {\"gridcolor\": \"white\", \"linecolor\": \"white\", \"ticks\": \"\"}, \"baxis\": {\"gridcolor\": \"white\", \"linecolor\": \"white\", \"ticks\": \"\"}, \"bgcolor\": \"#E5ECF6\", \"caxis\": {\"gridcolor\": \"white\", \"linecolor\": \"white\", \"ticks\": \"\"}}, \"title\": {\"x\": 0.05}, \"xaxis\": {\"automargin\": true, \"gridcolor\": \"white\", \"linecolor\": \"white\", \"ticks\": \"\", \"title\": {\"standoff\": 15}, \"zerolinecolor\": \"white\", \"zerolinewidth\": 2}, \"yaxis\": {\"automargin\": true, \"gridcolor\": \"white\", \"linecolor\": \"white\", \"ticks\": \"\", \"title\": {\"standoff\": 15}, \"zerolinecolor\": \"white\", \"zerolinewidth\": 2}}}, \"title\": {\"text\": \"Distribution of Dem/Rep Votes in US Presidential Election, 2016\"}},\n",
              "                        {\"responsive\": true}\n",
              "                    ).then(function(){\n",
              "                            \n",
              "var gd = document.getElementById('fc7ff606-517c-44b4-855a-1bd0e7d0e025');\n",
              "var x = new MutationObserver(function (mutations, observer) {{\n",
              "        var display = window.getComputedStyle(gd).display;\n",
              "        if (!display || display === 'none') {{\n",
              "            console.log([gd, 'removed!']);\n",
              "            Plotly.purge(gd);\n",
              "            observer.disconnect();\n",
              "        }}\n",
              "}});\n",
              "\n",
              "// Listen for the removal of the full notebook cells\n",
              "var notebookContainer = gd.closest('#notebook-container');\n",
              "if (notebookContainer) {{\n",
              "    x.observe(notebookContainer, {childList: true});\n",
              "}}\n",
              "\n",
              "// Listen for the clearing of the current output cell\n",
              "var outputEl = gd.closest('.output');\n",
              "if (outputEl) {{\n",
              "    x.observe(outputEl, {childList: true});\n",
              "}}\n",
              "\n",
              "                        })\n",
              "                };\n",
              "                \n",
              "            </script>\n",
              "        </div>\n",
              "</body>\n",
              "</html>"
            ]
          },
          "metadata": {
            "tags": []
          }
        }
      ]
    },
    {
      "cell_type": "markdown",
      "metadata": {
        "id": "dMp3kRBVHqIE"
      },
      "source": [
        "# Choropleth Animation with Plotly Express"
      ]
    },
    {
      "cell_type": "code",
      "metadata": {
        "colab": {
          "base_uri": "https://localhost:8080/",
          "height": 479
        },
        "id": "pW0thKZ-LUWh",
        "outputId": "449ea8cd-3ac1-4e4a-eff2-40a5e3fef084"
      },
      "source": [
        "# preview gdf of election data\n",
        "gdf_election.head()"
      ],
      "execution_count": 26,
      "outputs": [
        {
          "output_type": "execute_result",
          "data": {
            "text/html": [
              "<div>\n",
              "<style scoped>\n",
              "    .dataframe tbody tr th:only-of-type {\n",
              "        vertical-align: middle;\n",
              "    }\n",
              "\n",
              "    .dataframe tbody tr th {\n",
              "        vertical-align: top;\n",
              "    }\n",
              "\n",
              "    .dataframe thead th {\n",
              "        text-align: right;\n",
              "    }\n",
              "</style>\n",
              "<table border=\"1\" class=\"dataframe\">\n",
              "  <thead>\n",
              "    <tr style=\"text-align: right;\">\n",
              "      <th></th>\n",
              "      <th>STATEFP</th>\n",
              "      <th>STATENS</th>\n",
              "      <th>AFFGEOID</th>\n",
              "      <th>GEOID</th>\n",
              "      <th>STUSPS</th>\n",
              "      <th>NAME</th>\n",
              "      <th>LSAD</th>\n",
              "      <th>ALAND</th>\n",
              "      <th>AWATER</th>\n",
              "      <th>geometry</th>\n",
              "      <th>year</th>\n",
              "      <th>state</th>\n",
              "      <th>state_po</th>\n",
              "      <th>state_fips</th>\n",
              "      <th>state_cen</th>\n",
              "      <th>state_ic</th>\n",
              "      <th>office</th>\n",
              "      <th>candidate</th>\n",
              "      <th>party</th>\n",
              "      <th>writein</th>\n",
              "      <th>candidatevotes</th>\n",
              "      <th>totalvotes</th>\n",
              "      <th>version</th>\n",
              "      <th>notes</th>\n",
              "      <th>percent_votes</th>\n",
              "    </tr>\n",
              "  </thead>\n",
              "  <tbody>\n",
              "    <tr>\n",
              "      <th>0</th>\n",
              "      <td>1</td>\n",
              "      <td>01779775</td>\n",
              "      <td>0400000US01</td>\n",
              "      <td>01</td>\n",
              "      <td>AL</td>\n",
              "      <td>Alabama</td>\n",
              "      <td>00</td>\n",
              "      <td>131174048583</td>\n",
              "      <td>4593327154</td>\n",
              "      <td>MULTIPOLYGON (((-88.05338 30.50699, -88.05109 ...</td>\n",
              "      <td>1976</td>\n",
              "      <td>Alabama</td>\n",
              "      <td>AL</td>\n",
              "      <td>1</td>\n",
              "      <td>63</td>\n",
              "      <td>41</td>\n",
              "      <td>US President</td>\n",
              "      <td>Carter, Jimmy</td>\n",
              "      <td>democrat</td>\n",
              "      <td>False</td>\n",
              "      <td>659170</td>\n",
              "      <td>1182850</td>\n",
              "      <td>20171015</td>\n",
              "      <td>NaN</td>\n",
              "      <td>55.727269</td>\n",
              "    </tr>\n",
              "    <tr>\n",
              "      <th>1</th>\n",
              "      <td>1</td>\n",
              "      <td>01779775</td>\n",
              "      <td>0400000US01</td>\n",
              "      <td>01</td>\n",
              "      <td>AL</td>\n",
              "      <td>Alabama</td>\n",
              "      <td>00</td>\n",
              "      <td>131174048583</td>\n",
              "      <td>4593327154</td>\n",
              "      <td>MULTIPOLYGON (((-88.05338 30.50699, -88.05109 ...</td>\n",
              "      <td>1976</td>\n",
              "      <td>Alabama</td>\n",
              "      <td>AL</td>\n",
              "      <td>1</td>\n",
              "      <td>63</td>\n",
              "      <td>41</td>\n",
              "      <td>US President</td>\n",
              "      <td>Ford, Gerald</td>\n",
              "      <td>republican</td>\n",
              "      <td>False</td>\n",
              "      <td>504070</td>\n",
              "      <td>1182850</td>\n",
              "      <td>20171015</td>\n",
              "      <td>NaN</td>\n",
              "      <td>42.614871</td>\n",
              "    </tr>\n",
              "    <tr>\n",
              "      <th>2</th>\n",
              "      <td>1</td>\n",
              "      <td>01779775</td>\n",
              "      <td>0400000US01</td>\n",
              "      <td>01</td>\n",
              "      <td>AL</td>\n",
              "      <td>Alabama</td>\n",
              "      <td>00</td>\n",
              "      <td>131174048583</td>\n",
              "      <td>4593327154</td>\n",
              "      <td>MULTIPOLYGON (((-88.05338 30.50699, -88.05109 ...</td>\n",
              "      <td>1976</td>\n",
              "      <td>Alabama</td>\n",
              "      <td>AL</td>\n",
              "      <td>1</td>\n",
              "      <td>63</td>\n",
              "      <td>41</td>\n",
              "      <td>US President</td>\n",
              "      <td>Maddox, Lester</td>\n",
              "      <td>american independent party</td>\n",
              "      <td>False</td>\n",
              "      <td>9198</td>\n",
              "      <td>1182850</td>\n",
              "      <td>20171015</td>\n",
              "      <td>NaN</td>\n",
              "      <td>0.777613</td>\n",
              "    </tr>\n",
              "    <tr>\n",
              "      <th>3</th>\n",
              "      <td>1</td>\n",
              "      <td>01779775</td>\n",
              "      <td>0400000US01</td>\n",
              "      <td>01</td>\n",
              "      <td>AL</td>\n",
              "      <td>Alabama</td>\n",
              "      <td>00</td>\n",
              "      <td>131174048583</td>\n",
              "      <td>4593327154</td>\n",
              "      <td>MULTIPOLYGON (((-88.05338 30.50699, -88.05109 ...</td>\n",
              "      <td>1976</td>\n",
              "      <td>Alabama</td>\n",
              "      <td>AL</td>\n",
              "      <td>1</td>\n",
              "      <td>63</td>\n",
              "      <td>41</td>\n",
              "      <td>US President</td>\n",
              "      <td>Bubar, Benjamin \"\"Ben\"\"</td>\n",
              "      <td>prohibition</td>\n",
              "      <td>False</td>\n",
              "      <td>6669</td>\n",
              "      <td>1182850</td>\n",
              "      <td>20171015</td>\n",
              "      <td>NaN</td>\n",
              "      <td>0.563808</td>\n",
              "    </tr>\n",
              "    <tr>\n",
              "      <th>4</th>\n",
              "      <td>1</td>\n",
              "      <td>01779775</td>\n",
              "      <td>0400000US01</td>\n",
              "      <td>01</td>\n",
              "      <td>AL</td>\n",
              "      <td>Alabama</td>\n",
              "      <td>00</td>\n",
              "      <td>131174048583</td>\n",
              "      <td>4593327154</td>\n",
              "      <td>MULTIPOLYGON (((-88.05338 30.50699, -88.05109 ...</td>\n",
              "      <td>1976</td>\n",
              "      <td>Alabama</td>\n",
              "      <td>AL</td>\n",
              "      <td>1</td>\n",
              "      <td>63</td>\n",
              "      <td>41</td>\n",
              "      <td>US President</td>\n",
              "      <td>Hall, Gus</td>\n",
              "      <td>communist party use</td>\n",
              "      <td>False</td>\n",
              "      <td>1954</td>\n",
              "      <td>1182850</td>\n",
              "      <td>20171015</td>\n",
              "      <td>NaN</td>\n",
              "      <td>0.165194</td>\n",
              "    </tr>\n",
              "  </tbody>\n",
              "</table>\n",
              "</div>"
            ],
            "text/plain": [
              "   STATEFP   STATENS     AFFGEOID  ...   version notes percent_votes\n",
              "0        1  01779775  0400000US01  ...  20171015   NaN     55.727269\n",
              "1        1  01779775  0400000US01  ...  20171015   NaN     42.614871\n",
              "2        1  01779775  0400000US01  ...  20171015   NaN      0.777613\n",
              "3        1  01779775  0400000US01  ...  20171015   NaN      0.563808\n",
              "4        1  01779775  0400000US01  ...  20171015   NaN      0.165194\n",
              "\n",
              "[5 rows x 25 columns]"
            ]
          },
          "metadata": {
            "tags": []
          },
          "execution_count": 26
        }
      ]
    },
    {
      "cell_type": "code",
      "metadata": {
        "id": "r025Ml1qL1TZ"
      },
      "source": [
        "# filter the data to include only republican votes\n",
        "gdf_election_rep = gdf_election[gdf_election[\"party\"] == \"republican\"]"
      ],
      "execution_count": 25,
      "outputs": []
    },
    {
      "cell_type": "code",
      "metadata": {
        "colab": {
          "base_uri": "https://localhost:8080/",
          "height": 479
        },
        "id": "iyzlyRlEMNkY",
        "outputId": "388eaa36-16e5-464a-991f-36edb56e3441"
      },
      "source": [
        "#preview data\n",
        "gdf_election_rep.head()"
      ],
      "execution_count": 27,
      "outputs": [
        {
          "output_type": "execute_result",
          "data": {
            "text/html": [
              "<div>\n",
              "<style scoped>\n",
              "    .dataframe tbody tr th:only-of-type {\n",
              "        vertical-align: middle;\n",
              "    }\n",
              "\n",
              "    .dataframe tbody tr th {\n",
              "        vertical-align: top;\n",
              "    }\n",
              "\n",
              "    .dataframe thead th {\n",
              "        text-align: right;\n",
              "    }\n",
              "</style>\n",
              "<table border=\"1\" class=\"dataframe\">\n",
              "  <thead>\n",
              "    <tr style=\"text-align: right;\">\n",
              "      <th></th>\n",
              "      <th>STATEFP</th>\n",
              "      <th>STATENS</th>\n",
              "      <th>AFFGEOID</th>\n",
              "      <th>GEOID</th>\n",
              "      <th>STUSPS</th>\n",
              "      <th>NAME</th>\n",
              "      <th>LSAD</th>\n",
              "      <th>ALAND</th>\n",
              "      <th>AWATER</th>\n",
              "      <th>geometry</th>\n",
              "      <th>year</th>\n",
              "      <th>state</th>\n",
              "      <th>state_po</th>\n",
              "      <th>state_fips</th>\n",
              "      <th>state_cen</th>\n",
              "      <th>state_ic</th>\n",
              "      <th>office</th>\n",
              "      <th>candidate</th>\n",
              "      <th>party</th>\n",
              "      <th>writein</th>\n",
              "      <th>candidatevotes</th>\n",
              "      <th>totalvotes</th>\n",
              "      <th>version</th>\n",
              "      <th>notes</th>\n",
              "      <th>percent_votes</th>\n",
              "    </tr>\n",
              "  </thead>\n",
              "  <tbody>\n",
              "    <tr>\n",
              "      <th>1</th>\n",
              "      <td>1</td>\n",
              "      <td>01779775</td>\n",
              "      <td>0400000US01</td>\n",
              "      <td>01</td>\n",
              "      <td>AL</td>\n",
              "      <td>Alabama</td>\n",
              "      <td>00</td>\n",
              "      <td>131174048583</td>\n",
              "      <td>4593327154</td>\n",
              "      <td>MULTIPOLYGON (((-88.05338 30.50699, -88.05109 ...</td>\n",
              "      <td>1976</td>\n",
              "      <td>Alabama</td>\n",
              "      <td>AL</td>\n",
              "      <td>1</td>\n",
              "      <td>63</td>\n",
              "      <td>41</td>\n",
              "      <td>US President</td>\n",
              "      <td>Ford, Gerald</td>\n",
              "      <td>republican</td>\n",
              "      <td>False</td>\n",
              "      <td>504070</td>\n",
              "      <td>1182850</td>\n",
              "      <td>20171015</td>\n",
              "      <td>NaN</td>\n",
              "      <td>42.614871</td>\n",
              "    </tr>\n",
              "    <tr>\n",
              "      <th>7</th>\n",
              "      <td>1</td>\n",
              "      <td>01779775</td>\n",
              "      <td>0400000US01</td>\n",
              "      <td>01</td>\n",
              "      <td>AL</td>\n",
              "      <td>Alabama</td>\n",
              "      <td>00</td>\n",
              "      <td>131174048583</td>\n",
              "      <td>4593327154</td>\n",
              "      <td>MULTIPOLYGON (((-88.05338 30.50699, -88.05109 ...</td>\n",
              "      <td>1980</td>\n",
              "      <td>Alabama</td>\n",
              "      <td>AL</td>\n",
              "      <td>1</td>\n",
              "      <td>63</td>\n",
              "      <td>41</td>\n",
              "      <td>US President</td>\n",
              "      <td>Reagan, Ronald</td>\n",
              "      <td>republican</td>\n",
              "      <td>False</td>\n",
              "      <td>654192</td>\n",
              "      <td>1341929</td>\n",
              "      <td>20171015</td>\n",
              "      <td>NaN</td>\n",
              "      <td>48.750120</td>\n",
              "    </tr>\n",
              "    <tr>\n",
              "      <th>17</th>\n",
              "      <td>1</td>\n",
              "      <td>01779775</td>\n",
              "      <td>0400000US01</td>\n",
              "      <td>01</td>\n",
              "      <td>AL</td>\n",
              "      <td>Alabama</td>\n",
              "      <td>00</td>\n",
              "      <td>131174048583</td>\n",
              "      <td>4593327154</td>\n",
              "      <td>MULTIPOLYGON (((-88.05338 30.50699, -88.05109 ...</td>\n",
              "      <td>1984</td>\n",
              "      <td>Alabama</td>\n",
              "      <td>AL</td>\n",
              "      <td>1</td>\n",
              "      <td>63</td>\n",
              "      <td>41</td>\n",
              "      <td>US President</td>\n",
              "      <td>Reagan, Ronald</td>\n",
              "      <td>republican</td>\n",
              "      <td>False</td>\n",
              "      <td>872849</td>\n",
              "      <td>1441713</td>\n",
              "      <td>20171015</td>\n",
              "      <td>NaN</td>\n",
              "      <td>60.542494</td>\n",
              "    </tr>\n",
              "    <tr>\n",
              "      <th>24</th>\n",
              "      <td>1</td>\n",
              "      <td>01779775</td>\n",
              "      <td>0400000US01</td>\n",
              "      <td>01</td>\n",
              "      <td>AL</td>\n",
              "      <td>Alabama</td>\n",
              "      <td>00</td>\n",
              "      <td>131174048583</td>\n",
              "      <td>4593327154</td>\n",
              "      <td>MULTIPOLYGON (((-88.05338 30.50699, -88.05109 ...</td>\n",
              "      <td>1988</td>\n",
              "      <td>Alabama</td>\n",
              "      <td>AL</td>\n",
              "      <td>1</td>\n",
              "      <td>63</td>\n",
              "      <td>41</td>\n",
              "      <td>US President</td>\n",
              "      <td>Bush, George H.W.</td>\n",
              "      <td>republican</td>\n",
              "      <td>False</td>\n",
              "      <td>815576</td>\n",
              "      <td>1378476</td>\n",
              "      <td>20171015</td>\n",
              "      <td>NaN</td>\n",
              "      <td>59.165049</td>\n",
              "    </tr>\n",
              "    <tr>\n",
              "      <th>29</th>\n",
              "      <td>1</td>\n",
              "      <td>01779775</td>\n",
              "      <td>0400000US01</td>\n",
              "      <td>01</td>\n",
              "      <td>AL</td>\n",
              "      <td>Alabama</td>\n",
              "      <td>00</td>\n",
              "      <td>131174048583</td>\n",
              "      <td>4593327154</td>\n",
              "      <td>MULTIPOLYGON (((-88.05338 30.50699, -88.05109 ...</td>\n",
              "      <td>1992</td>\n",
              "      <td>Alabama</td>\n",
              "      <td>AL</td>\n",
              "      <td>1</td>\n",
              "      <td>63</td>\n",
              "      <td>41</td>\n",
              "      <td>US President</td>\n",
              "      <td>Bush, George H.W.</td>\n",
              "      <td>republican</td>\n",
              "      <td>False</td>\n",
              "      <td>804283</td>\n",
              "      <td>1688060</td>\n",
              "      <td>20171015</td>\n",
              "      <td>NaN</td>\n",
              "      <td>47.645404</td>\n",
              "    </tr>\n",
              "  </tbody>\n",
              "</table>\n",
              "</div>"
            ],
            "text/plain": [
              "    STATEFP   STATENS     AFFGEOID  ...   version notes percent_votes\n",
              "1         1  01779775  0400000US01  ...  20171015   NaN     42.614871\n",
              "7         1  01779775  0400000US01  ...  20171015   NaN     48.750120\n",
              "17        1  01779775  0400000US01  ...  20171015   NaN     60.542494\n",
              "24        1  01779775  0400000US01  ...  20171015   NaN     59.165049\n",
              "29        1  01779775  0400000US01  ...  20171015   NaN     47.645404\n",
              "\n",
              "[5 rows x 25 columns]"
            ]
          },
          "metadata": {
            "tags": []
          },
          "execution_count": 27
        }
      ]
    },
    {
      "cell_type": "code",
      "metadata": {
        "colab": {
          "base_uri": "https://localhost:8080/",
          "height": 542
        },
        "id": "bNV0Bvd5OUt9",
        "outputId": "718234c1-4fb4-4a6f-c56a-200f385bd0f6"
      },
      "source": [
        "# make a choropleth with plotly express\n",
        "\n",
        "choropleth_election_animation = px.choropleth(gdf_election_rep,\n",
        "                                         locationmode = \"USA-states\",\n",
        "                                         locations = \"state_po\",\n",
        "                                         color = \"percent_votes\",\n",
        "                                         color_continuous_scale = [(0, \"blue\"), (0.5, \"purple\"), (1, \"red\")],\n",
        "                                         range_color = (0, 100),\n",
        "                                         labels = {\"state_po\": \"State\", \"percent_votes\": \"Percent Republican Votes\"},\n",
        "                                         animation_frame = \"year\")\n",
        "\n",
        "choropleth_election_animation.update_layout(geo_scope = \"usa\",\n",
        "                                       title = \"Distribution of Dem/Rep Votes in US Presidential Election, 1976-2016\")"
      ],
      "execution_count": 31,
      "outputs": [
        {
          "output_type": "display_data",
          "data": {
            "text/html": [
              "<html>\n",
              "<head><meta charset=\"utf-8\" /></head>\n",
              "<body>\n",
              "    <div>\n",
              "            <script src=\"https://cdnjs.cloudflare.com/ajax/libs/mathjax/2.7.5/MathJax.js?config=TeX-AMS-MML_SVG\"></script><script type=\"text/javascript\">if (window.MathJax) {MathJax.Hub.Config({SVG: {font: \"STIX-Web\"}});}</script>\n",
              "                <script type=\"text/javascript\">window.PlotlyConfig = {MathJaxConfig: 'local'};</script>\n",
              "        <script src=\"https://cdn.plot.ly/plotly-latest.min.js\"></script>    \n",
              "            <div id=\"960c12b2-2bae-4a59-897c-0202dd3500c9\" class=\"plotly-graph-div\" style=\"height:525px; width:100%;\"></div>\n",
              "            <script type=\"text/javascript\">\n",
              "                \n",
              "                    window.PLOTLYENV=window.PLOTLYENV || {};\n",
              "                    \n",
              "                if (document.getElementById(\"960c12b2-2bae-4a59-897c-0202dd3500c9\")) {\n",
              "                    Plotly.newPlot(\n",
              "                        '960c12b2-2bae-4a59-897c-0202dd3500c9',\n",
              "                        [{\"coloraxis\": \"coloraxis\", \"geo\": \"geo\", \"hoverlabel\": {\"namelength\": 0}, \"hovertemplate\": \"year=1976<br>State=%{location}<br>Percent Republican Votes=%{z}\", \"locationmode\": \"USA-states\", \"locations\": [\"AL\", \"AK\", \"AZ\", \"AR\", \"CA\", \"CO\", \"CT\", \"DE\", \"DC\", \"FL\", \"GA\", \"HI\", \"ID\", \"IL\", \"IN\", \"IA\", \"KS\", \"KY\", \"LA\", \"ME\", \"MD\", \"MA\", \"MI\", \"MN\", \"MS\", \"MO\", \"MT\", \"NE\", \"NV\", \"NH\", \"NJ\", \"NM\", \"NY\", \"NC\", \"ND\", \"OH\", \"OK\", \"OR\", \"PA\", \"RI\", \"SC\", \"SD\", \"TN\", \"TX\", \"UT\", \"VT\", \"VA\", \"WA\", \"WV\", \"WI\", \"WY\"], \"name\": \"\", \"type\": \"choropleth\", \"z\": [42.614870862746756, 57.90457539611893, 56.36613577948053, 34.904336610056866, 49.748313955946934, 54.02777777777777, 51.881444507359234, 46.587620203529085, 16.509506604276492, 46.64243448375897, 33.06170514068258, 48.061283689379714, 59.880269379231045, 50.07684353529401, 53.322746471070936, 49.469437654722924, 52.487824230433944, 45.568748275702525, 45.9882431502533, 48.9307780225605, 46.964580076563614, 40.44170927609891, 51.860751070081804, 42.02174333348206, 47.74216218326631, 47.47353603603604, 52.839986128602455, 59.20388826351588, 50.16594345043492, 54.74682519352113, 50.08134094461651, 50.74989798122854, 42.378553812072774, 44.219402040400354, 51.69184818437446, 48.671631565938185, 49.96177618514426, 47.78439346096035, 47.732215313105755, 44.144194610603435, 43.12937104324413, 50.387790260677534, 42.94176297426213, 47.97042351894111, 62.43473055219893, 54.58722580504835, 49.29332140706408, 49.997749968821, 41.93048135466766, 47.82609730190698, 59.303582507691424]}],\n",
              "                        {\"coloraxis\": {\"cmax\": 100, \"cmin\": 0, \"colorbar\": {\"title\": {\"text\": \"Percent Republican Votes\"}}, \"colorscale\": [[0, \"blue\"], [0.5, \"purple\"], [1, \"red\"]]}, \"geo\": {\"center\": {}, \"domain\": {\"x\": [0.0, 1.0], \"y\": [0.0, 1.0]}, \"scope\": \"usa\"}, \"legend\": {\"tracegroupgap\": 0}, \"margin\": {\"t\": 60}, \"sliders\": [{\"active\": 0, \"currentvalue\": {\"prefix\": \"year=\"}, \"len\": 0.9, \"pad\": {\"b\": 10, \"t\": 60}, \"steps\": [{\"args\": [[\"1976\"], {\"frame\": {\"duration\": 0, \"redraw\": true}, \"fromcurrent\": true, \"mode\": \"immediate\", \"transition\": {\"duration\": 0, \"easing\": \"linear\"}}], \"label\": \"1976\", \"method\": \"animate\"}, {\"args\": [[\"1980\"], {\"frame\": {\"duration\": 0, \"redraw\": true}, \"fromcurrent\": true, \"mode\": \"immediate\", \"transition\": {\"duration\": 0, \"easing\": \"linear\"}}], \"label\": \"1980\", \"method\": \"animate\"}, {\"args\": [[\"1984\"], {\"frame\": {\"duration\": 0, \"redraw\": true}, \"fromcurrent\": true, \"mode\": \"immediate\", \"transition\": {\"duration\": 0, \"easing\": \"linear\"}}], \"label\": \"1984\", \"method\": \"animate\"}, {\"args\": [[\"1988\"], {\"frame\": {\"duration\": 0, \"redraw\": true}, \"fromcurrent\": true, \"mode\": \"immediate\", \"transition\": {\"duration\": 0, \"easing\": \"linear\"}}], \"label\": \"1988\", \"method\": \"animate\"}, {\"args\": [[\"1992\"], {\"frame\": {\"duration\": 0, \"redraw\": true}, \"fromcurrent\": true, \"mode\": \"immediate\", \"transition\": {\"duration\": 0, \"easing\": \"linear\"}}], \"label\": \"1992\", \"method\": \"animate\"}, {\"args\": [[\"1996\"], {\"frame\": {\"duration\": 0, \"redraw\": true}, \"fromcurrent\": true, \"mode\": \"immediate\", \"transition\": {\"duration\": 0, \"easing\": \"linear\"}}], \"label\": \"1996\", \"method\": \"animate\"}, {\"args\": [[\"2000\"], {\"frame\": {\"duration\": 0, \"redraw\": true}, \"fromcurrent\": true, \"mode\": \"immediate\", \"transition\": {\"duration\": 0, \"easing\": \"linear\"}}], \"label\": \"2000\", \"method\": \"animate\"}, {\"args\": [[\"2004\"], {\"frame\": {\"duration\": 0, \"redraw\": true}, \"fromcurrent\": true, \"mode\": \"immediate\", \"transition\": {\"duration\": 0, \"easing\": \"linear\"}}], \"label\": \"2004\", \"method\": \"animate\"}, {\"args\": [[\"2008\"], {\"frame\": {\"duration\": 0, \"redraw\": true}, \"fromcurrent\": true, \"mode\": \"immediate\", \"transition\": {\"duration\": 0, \"easing\": \"linear\"}}], \"label\": \"2008\", \"method\": \"animate\"}, {\"args\": [[\"2012\"], {\"frame\": {\"duration\": 0, \"redraw\": true}, \"fromcurrent\": true, \"mode\": \"immediate\", \"transition\": {\"duration\": 0, \"easing\": \"linear\"}}], \"label\": \"2012\", \"method\": \"animate\"}, {\"args\": [[\"2016\"], {\"frame\": {\"duration\": 0, \"redraw\": true}, \"fromcurrent\": true, \"mode\": \"immediate\", \"transition\": {\"duration\": 0, \"easing\": \"linear\"}}], \"label\": \"2016\", \"method\": \"animate\"}], \"x\": 0.1, \"xanchor\": \"left\", \"y\": 0, \"yanchor\": \"top\"}], \"template\": {\"data\": {\"bar\": [{\"error_x\": {\"color\": \"#2a3f5f\"}, \"error_y\": {\"color\": \"#2a3f5f\"}, \"marker\": {\"line\": {\"color\": \"#E5ECF6\", \"width\": 0.5}}, \"type\": \"bar\"}], \"barpolar\": [{\"marker\": {\"line\": {\"color\": \"#E5ECF6\", \"width\": 0.5}}, \"type\": \"barpolar\"}], \"carpet\": [{\"aaxis\": {\"endlinecolor\": \"#2a3f5f\", \"gridcolor\": \"white\", \"linecolor\": \"white\", \"minorgridcolor\": \"white\", \"startlinecolor\": \"#2a3f5f\"}, \"baxis\": {\"endlinecolor\": \"#2a3f5f\", \"gridcolor\": \"white\", \"linecolor\": \"white\", \"minorgridcolor\": \"white\", \"startlinecolor\": \"#2a3f5f\"}, \"type\": \"carpet\"}], \"choropleth\": [{\"colorbar\": {\"outlinewidth\": 0, \"ticks\": \"\"}, \"type\": \"choropleth\"}], \"contour\": [{\"colorbar\": {\"outlinewidth\": 0, \"ticks\": \"\"}, \"colorscale\": [[0.0, \"#0d0887\"], [0.1111111111111111, \"#46039f\"], [0.2222222222222222, \"#7201a8\"], [0.3333333333333333, \"#9c179e\"], [0.4444444444444444, \"#bd3786\"], [0.5555555555555556, \"#d8576b\"], [0.6666666666666666, \"#ed7953\"], [0.7777777777777778, \"#fb9f3a\"], [0.8888888888888888, \"#fdca26\"], [1.0, \"#f0f921\"]], \"type\": \"contour\"}], \"contourcarpet\": [{\"colorbar\": {\"outlinewidth\": 0, \"ticks\": \"\"}, \"type\": \"contourcarpet\"}], \"heatmap\": [{\"colorbar\": {\"outlinewidth\": 0, \"ticks\": \"\"}, \"colorscale\": [[0.0, \"#0d0887\"], [0.1111111111111111, \"#46039f\"], [0.2222222222222222, \"#7201a8\"], [0.3333333333333333, \"#9c179e\"], [0.4444444444444444, \"#bd3786\"], [0.5555555555555556, \"#d8576b\"], [0.6666666666666666, \"#ed7953\"], [0.7777777777777778, \"#fb9f3a\"], [0.8888888888888888, \"#fdca26\"], [1.0, \"#f0f921\"]], \"type\": \"heatmap\"}], \"heatmapgl\": [{\"colorbar\": {\"outlinewidth\": 0, \"ticks\": \"\"}, \"colorscale\": [[0.0, \"#0d0887\"], [0.1111111111111111, \"#46039f\"], [0.2222222222222222, \"#7201a8\"], [0.3333333333333333, \"#9c179e\"], [0.4444444444444444, \"#bd3786\"], [0.5555555555555556, \"#d8576b\"], [0.6666666666666666, \"#ed7953\"], [0.7777777777777778, \"#fb9f3a\"], [0.8888888888888888, \"#fdca26\"], [1.0, \"#f0f921\"]], \"type\": \"heatmapgl\"}], \"histogram\": [{\"marker\": {\"colorbar\": {\"outlinewidth\": 0, \"ticks\": \"\"}}, \"type\": \"histogram\"}], \"histogram2d\": [{\"colorbar\": {\"outlinewidth\": 0, \"ticks\": \"\"}, \"colorscale\": [[0.0, \"#0d0887\"], [0.1111111111111111, \"#46039f\"], [0.2222222222222222, \"#7201a8\"], [0.3333333333333333, \"#9c179e\"], [0.4444444444444444, \"#bd3786\"], [0.5555555555555556, \"#d8576b\"], [0.6666666666666666, \"#ed7953\"], [0.7777777777777778, \"#fb9f3a\"], [0.8888888888888888, \"#fdca26\"], [1.0, \"#f0f921\"]], \"type\": \"histogram2d\"}], \"histogram2dcontour\": [{\"colorbar\": {\"outlinewidth\": 0, \"ticks\": \"\"}, \"colorscale\": [[0.0, \"#0d0887\"], [0.1111111111111111, \"#46039f\"], [0.2222222222222222, \"#7201a8\"], [0.3333333333333333, \"#9c179e\"], [0.4444444444444444, \"#bd3786\"], [0.5555555555555556, \"#d8576b\"], [0.6666666666666666, \"#ed7953\"], [0.7777777777777778, \"#fb9f3a\"], [0.8888888888888888, \"#fdca26\"], [1.0, \"#f0f921\"]], \"type\": \"histogram2dcontour\"}], \"mesh3d\": [{\"colorbar\": {\"outlinewidth\": 0, \"ticks\": \"\"}, \"type\": \"mesh3d\"}], \"parcoords\": [{\"line\": {\"colorbar\": {\"outlinewidth\": 0, \"ticks\": \"\"}}, \"type\": \"parcoords\"}], \"pie\": [{\"automargin\": true, \"type\": \"pie\"}], \"scatter\": [{\"marker\": {\"colorbar\": {\"outlinewidth\": 0, \"ticks\": \"\"}}, \"type\": \"scatter\"}], \"scatter3d\": [{\"line\": {\"colorbar\": {\"outlinewidth\": 0, \"ticks\": \"\"}}, \"marker\": {\"colorbar\": {\"outlinewidth\": 0, \"ticks\": \"\"}}, \"type\": \"scatter3d\"}], \"scattercarpet\": [{\"marker\": {\"colorbar\": {\"outlinewidth\": 0, \"ticks\": \"\"}}, \"type\": \"scattercarpet\"}], \"scattergeo\": [{\"marker\": {\"colorbar\": {\"outlinewidth\": 0, \"ticks\": \"\"}}, \"type\": \"scattergeo\"}], \"scattergl\": [{\"marker\": {\"colorbar\": {\"outlinewidth\": 0, \"ticks\": \"\"}}, \"type\": \"scattergl\"}], \"scattermapbox\": [{\"marker\": {\"colorbar\": {\"outlinewidth\": 0, \"ticks\": \"\"}}, \"type\": \"scattermapbox\"}], \"scatterpolar\": [{\"marker\": {\"colorbar\": {\"outlinewidth\": 0, \"ticks\": \"\"}}, \"type\": \"scatterpolar\"}], \"scatterpolargl\": [{\"marker\": {\"colorbar\": {\"outlinewidth\": 0, \"ticks\": \"\"}}, \"type\": \"scatterpolargl\"}], \"scatterternary\": [{\"marker\": {\"colorbar\": {\"outlinewidth\": 0, \"ticks\": \"\"}}, \"type\": \"scatterternary\"}], \"surface\": [{\"colorbar\": {\"outlinewidth\": 0, \"ticks\": \"\"}, \"colorscale\": [[0.0, \"#0d0887\"], [0.1111111111111111, \"#46039f\"], [0.2222222222222222, \"#7201a8\"], [0.3333333333333333, \"#9c179e\"], [0.4444444444444444, \"#bd3786\"], [0.5555555555555556, \"#d8576b\"], [0.6666666666666666, \"#ed7953\"], [0.7777777777777778, \"#fb9f3a\"], [0.8888888888888888, \"#fdca26\"], [1.0, \"#f0f921\"]], \"type\": \"surface\"}], \"table\": [{\"cells\": {\"fill\": {\"color\": \"#EBF0F8\"}, \"line\": {\"color\": \"white\"}}, \"header\": {\"fill\": {\"color\": \"#C8D4E3\"}, \"line\": {\"color\": \"white\"}}, \"type\": \"table\"}]}, \"layout\": {\"annotationdefaults\": {\"arrowcolor\": \"#2a3f5f\", \"arrowhead\": 0, \"arrowwidth\": 1}, \"coloraxis\": {\"colorbar\": {\"outlinewidth\": 0, \"ticks\": \"\"}}, \"colorscale\": {\"diverging\": [[0, \"#8e0152\"], [0.1, \"#c51b7d\"], [0.2, \"#de77ae\"], [0.3, \"#f1b6da\"], [0.4, \"#fde0ef\"], [0.5, \"#f7f7f7\"], [0.6, \"#e6f5d0\"], [0.7, \"#b8e186\"], [0.8, \"#7fbc41\"], [0.9, \"#4d9221\"], [1, \"#276419\"]], \"sequential\": [[0.0, \"#0d0887\"], [0.1111111111111111, \"#46039f\"], [0.2222222222222222, \"#7201a8\"], [0.3333333333333333, \"#9c179e\"], [0.4444444444444444, \"#bd3786\"], [0.5555555555555556, \"#d8576b\"], [0.6666666666666666, \"#ed7953\"], [0.7777777777777778, \"#fb9f3a\"], [0.8888888888888888, \"#fdca26\"], [1.0, \"#f0f921\"]], \"sequentialminus\": [[0.0, \"#0d0887\"], [0.1111111111111111, \"#46039f\"], [0.2222222222222222, \"#7201a8\"], [0.3333333333333333, \"#9c179e\"], [0.4444444444444444, \"#bd3786\"], [0.5555555555555556, \"#d8576b\"], [0.6666666666666666, \"#ed7953\"], [0.7777777777777778, \"#fb9f3a\"], [0.8888888888888888, \"#fdca26\"], [1.0, \"#f0f921\"]]}, \"colorway\": [\"#636efa\", \"#EF553B\", \"#00cc96\", \"#ab63fa\", \"#FFA15A\", \"#19d3f3\", \"#FF6692\", \"#B6E880\", \"#FF97FF\", \"#FECB52\"], \"font\": {\"color\": \"#2a3f5f\"}, \"geo\": {\"bgcolor\": \"white\", \"lakecolor\": \"white\", \"landcolor\": \"#E5ECF6\", \"showlakes\": true, \"showland\": true, \"subunitcolor\": \"white\"}, \"hoverlabel\": {\"align\": \"left\"}, \"hovermode\": \"closest\", \"mapbox\": {\"style\": \"light\"}, \"paper_bgcolor\": \"white\", \"plot_bgcolor\": \"#E5ECF6\", \"polar\": {\"angularaxis\": {\"gridcolor\": \"white\", \"linecolor\": \"white\", \"ticks\": \"\"}, \"bgcolor\": \"#E5ECF6\", \"radialaxis\": {\"gridcolor\": \"white\", \"linecolor\": \"white\", \"ticks\": \"\"}}, \"scene\": {\"xaxis\": {\"backgroundcolor\": \"#E5ECF6\", \"gridcolor\": \"white\", \"gridwidth\": 2, \"linecolor\": \"white\", \"showbackground\": true, \"ticks\": \"\", \"zerolinecolor\": \"white\"}, \"yaxis\": {\"backgroundcolor\": \"#E5ECF6\", \"gridcolor\": \"white\", \"gridwidth\": 2, \"linecolor\": \"white\", \"showbackground\": true, \"ticks\": \"\", \"zerolinecolor\": \"white\"}, \"zaxis\": {\"backgroundcolor\": \"#E5ECF6\", \"gridcolor\": \"white\", \"gridwidth\": 2, \"linecolor\": \"white\", \"showbackground\": true, \"ticks\": \"\", \"zerolinecolor\": \"white\"}}, \"shapedefaults\": {\"line\": {\"color\": \"#2a3f5f\"}}, \"ternary\": {\"aaxis\": {\"gridcolor\": \"white\", \"linecolor\": \"white\", \"ticks\": \"\"}, \"baxis\": {\"gridcolor\": \"white\", \"linecolor\": \"white\", \"ticks\": \"\"}, \"bgcolor\": \"#E5ECF6\", \"caxis\": {\"gridcolor\": \"white\", \"linecolor\": \"white\", \"ticks\": \"\"}}, \"title\": {\"x\": 0.05}, \"xaxis\": {\"automargin\": true, \"gridcolor\": \"white\", \"linecolor\": \"white\", \"ticks\": \"\", \"title\": {\"standoff\": 15}, \"zerolinecolor\": \"white\", \"zerolinewidth\": 2}, \"yaxis\": {\"automargin\": true, \"gridcolor\": \"white\", \"linecolor\": \"white\", \"ticks\": \"\", \"title\": {\"standoff\": 15}, \"zerolinecolor\": \"white\", \"zerolinewidth\": 2}}}, \"title\": {\"text\": \"Distribution of Dem/Rep Votes in US Presidential Election, 1976-2016\"}, \"updatemenus\": [{\"buttons\": [{\"args\": [null, {\"frame\": {\"duration\": 500, \"redraw\": true}, \"fromcurrent\": true, \"mode\": \"immediate\", \"transition\": {\"duration\": 500, \"easing\": \"linear\"}}], \"label\": \"&#9654;\", \"method\": \"animate\"}, {\"args\": [[null], {\"frame\": {\"duration\": 0, \"redraw\": true}, \"fromcurrent\": true, \"mode\": \"immediate\", \"transition\": {\"duration\": 0, \"easing\": \"linear\"}}], \"label\": \"&#9724;\", \"method\": \"animate\"}], \"direction\": \"left\", \"pad\": {\"r\": 10, \"t\": 70}, \"showactive\": false, \"type\": \"buttons\", \"x\": 0.1, \"xanchor\": \"right\", \"y\": 0, \"yanchor\": \"top\"}]},\n",
              "                        {\"responsive\": true}\n",
              "                    ).then(function(){\n",
              "                            Plotly.addFrames('960c12b2-2bae-4a59-897c-0202dd3500c9', [{\"data\": [{\"coloraxis\": \"coloraxis\", \"geo\": \"geo\", \"hoverlabel\": {\"namelength\": 0}, \"hovertemplate\": \"year=1976<br>State=%{location}<br>Percent Republican Votes=%{z}\", \"locationmode\": \"USA-states\", \"locations\": [\"AL\", \"AK\", \"AZ\", \"AR\", \"CA\", \"CO\", \"CT\", \"DE\", \"DC\", \"FL\", \"GA\", \"HI\", \"ID\", \"IL\", \"IN\", \"IA\", \"KS\", \"KY\", \"LA\", \"ME\", \"MD\", \"MA\", \"MI\", \"MN\", \"MS\", \"MO\", \"MT\", \"NE\", \"NV\", \"NH\", \"NJ\", \"NM\", \"NY\", \"NC\", \"ND\", \"OH\", \"OK\", \"OR\", \"PA\", \"RI\", \"SC\", \"SD\", \"TN\", \"TX\", \"UT\", \"VT\", \"VA\", \"WA\", \"WV\", \"WI\", \"WY\"], \"name\": \"\", \"z\": [42.614870862746756, 57.90457539611893, 56.36613577948053, 34.904336610056866, 49.748313955946934, 54.02777777777777, 51.881444507359234, 46.587620203529085, 16.509506604276492, 46.64243448375897, 33.06170514068258, 48.061283689379714, 59.880269379231045, 50.07684353529401, 53.322746471070936, 49.469437654722924, 52.487824230433944, 45.568748275702525, 45.9882431502533, 48.9307780225605, 46.964580076563614, 40.44170927609891, 51.860751070081804, 42.02174333348206, 47.74216218326631, 47.47353603603604, 52.839986128602455, 59.20388826351588, 50.16594345043492, 54.74682519352113, 50.08134094461651, 50.74989798122854, 42.378553812072774, 44.219402040400354, 51.69184818437446, 48.671631565938185, 49.96177618514426, 47.78439346096035, 47.732215313105755, 44.144194610603435, 43.12937104324413, 50.387790260677534, 42.94176297426213, 47.97042351894111, 62.43473055219893, 54.58722580504835, 49.29332140706408, 49.997749968821, 41.93048135466766, 47.82609730190698, 59.303582507691424], \"type\": \"choropleth\"}], \"name\": \"1976\"}, {\"data\": [{\"coloraxis\": \"coloraxis\", \"geo\": \"geo\", \"hoverlabel\": {\"namelength\": 0}, \"hovertemplate\": \"year=1980<br>State=%{location}<br>Percent Republican Votes=%{z}\", \"locationmode\": \"USA-states\", \"locations\": [\"AL\", \"AK\", \"AZ\", \"AR\", \"CA\", \"CO\", \"CT\", \"DE\", \"DC\", \"FL\", \"GA\", \"HI\", \"ID\", \"IL\", \"IN\", \"IA\", \"KS\", \"KY\", \"LA\", \"ME\", \"MD\", \"MA\", \"MI\", \"MN\", \"MS\", \"MO\", \"MT\", \"NE\", \"NV\", \"NH\", \"NJ\", \"NM\", \"NY\", \"NC\", \"ND\", \"OH\", \"OK\", \"OR\", \"PA\", \"RI\", \"SC\", \"SD\", \"TN\", \"TX\", \"UT\", \"VT\", \"VA\", \"WA\", \"WV\", \"WI\", \"WY\"], \"name\": \"\", \"z\": [48.75012016284021, 54.34819653507527, 60.60884838290739, 48.13427222648051, 52.69750288304541, 55.06893494871037, 48.15595700729226, 47.20708793726768, 13.4068284940393, 55.51916270650328, 40.967306590347604, 42.900618885741885, 66.45596676961624, 49.646052894475275, 56.00524167128673, 51.305001817614695, 57.850060471833395, 49.032167437078726, 51.19834740095997, 45.605541757247934, 44.18096509176265, 41.901477364119344, 48.986181892588355, 42.55866224543305, 49.46330249509391, 51.15576353065781, 56.82452631116192, 65.55001852914548, 63.611854307896856, 57.73718065574624, 51.97315978443948, 54.966826452041374, 42.530110244198646, 49.30497517826227, 64.32570836488264, 51.511426245616136, 60.49970949145348, 48.33146567630062, 49.586134037896734, 37.21280774676837, 49.45376230779796, 60.5252316884496, 48.698887745917446, 55.28195126161586, 72.77754604801441, 44.36401483363729, 53.03279900880585, 49.65834363525127, 45.30286086090157, 47.89877447023409, 62.64394809663126], \"type\": \"choropleth\"}], \"name\": \"1980\"}, {\"data\": [{\"coloraxis\": \"coloraxis\", \"geo\": \"geo\", \"hoverlabel\": {\"namelength\": 0}, \"hovertemplate\": \"year=1984<br>State=%{location}<br>Percent Republican Votes=%{z}\", \"locationmode\": \"USA-states\", \"locations\": [\"AL\", \"AK\", \"AZ\", \"AR\", \"CA\", \"CO\", \"CT\", \"DE\", \"DC\", \"FL\", \"GA\", \"HI\", \"ID\", \"IL\", \"IN\", \"IA\", \"KS\", \"KY\", \"LA\", \"ME\", \"MD\", \"MA\", \"MI\", \"MN\", \"MS\", \"MO\", \"MT\", \"NE\", \"NV\", \"NH\", \"NJ\", \"NM\", \"NY\", \"NC\", \"ND\", \"OH\", \"OK\", \"OR\", \"PA\", \"RI\", \"SC\", \"SD\", \"TN\", \"TX\", \"UT\", \"VT\", \"VA\", \"WA\", \"WV\", \"WI\", \"WY\"], \"name\": \"\", \"z\": [60.54249354760621, 66.6539823221984, 66.42148285841562, 60.46702532547269, 57.51694285169312, 63.44215596967685, 60.73195173495126, 59.78269409047342, 13.729601302487602, 65.3185810412361, 60.172298566017844, 55.09965877217534, 72.3646702858366, 56.17459154097206, 61.674314586786174, 53.27211216808544, 66.272207876586, 60.006937623462306, 60.77370692433072, 60.834068524651805, 52.50505259050059, 51.22078250890938, 59.22602717025045, 49.53841518789858, 61.88232118873154, 60.024750667877036, 60.47448208399566, 70.55069085555675, 66.7699501621763, 68.66733178367926, 60.09051973018109, 59.70429846219647, 49.605013214707036, 61.89689895148437, 64.83974224118121, 58.69868634861014, 68.610851843947, 55.9058218856984, 53.34106792230928, 51.66520905554107, 63.554008191804265, 63.003394501473885, 57.83972247550078, 63.6106129961051, 74.50179145438143, 57.9230988953833, 62.2871610683698, 56.091759071102075, 55.1121181066189, 54.19315283477921, 70.50982176876508], \"type\": \"choropleth\"}], \"name\": \"1984\"}, {\"data\": [{\"coloraxis\": \"coloraxis\", \"geo\": \"geo\", \"hoverlabel\": {\"namelength\": 0}, \"hovertemplate\": \"year=1988<br>State=%{location}<br>Percent Republican Votes=%{z}\", \"locationmode\": \"USA-states\", \"locations\": [\"AL\", \"AK\", \"AZ\", \"AR\", \"CA\", \"CO\", \"CT\", \"DE\", \"DC\", \"FL\", \"GA\", \"HI\", \"ID\", \"IL\", \"IN\", \"IA\", \"KS\", \"KY\", \"LA\", \"ME\", \"MD\", \"MA\", \"MI\", \"MN\", \"MS\", \"MO\", \"MT\", \"NE\", \"NV\", \"NH\", \"NJ\", \"NM\", \"NY\", \"NC\", \"ND\", \"OH\", \"OK\", \"OR\", \"PA\", \"RI\", \"SC\", \"SD\", \"TN\", \"TX\", \"UT\", \"VT\", \"VA\", \"WA\", \"WV\", \"WI\", \"WY\"], \"name\": \"\", \"z\": [59.16504893810266, 59.5909372563913, 59.95026764845679, 56.367836199377095, 51.126567894516725, 53.05888833673129, 51.97756122029051, 55.87996366415757, 14.30445309705149, 60.871559089261986, 59.752872343717534, 44.751044543687456, 62.078451125760445, 50.68826878871361, 59.84277566250626, 44.49647278833303, 55.79299608073761, 55.521479118982974, 54.274715299453014, 55.33542929725152, 51.1075866300971, 45.37505873022686, 53.56769377648254, 45.89572632452463, 59.88983679485405, 51.83157305367595, 52.07151725307241, 60.16282040621953, 60.04668743606706, 62.4908717607236, 56.24010946094485, 51.85035300074608, 43.76430362075976, 57.96829977932598, 56.03123181312045, 55.00175824525984, 57.92879125833878, 46.61136695365043, 50.70457961872039, 43.93260870639757, 61.50481385058352, 52.84976245323348, 57.89048128342246, 55.9535579585843, 66.21896483505614, 51.0960514203051, 59.735199116265726, 48.45642923506892, 47.46055094740483, 47.79591058254943, 60.53038498790718], \"type\": \"choropleth\"}], \"name\": \"1988\"}, {\"data\": [{\"coloraxis\": \"coloraxis\", \"geo\": \"geo\", \"hoverlabel\": {\"namelength\": 0}, \"hovertemplate\": \"year=1992<br>State=%{location}<br>Percent Republican Votes=%{z}\", \"locationmode\": \"USA-states\", \"locations\": [\"AL\", \"AK\", \"AZ\", \"AR\", \"CA\", \"CO\", \"CT\", \"DE\", \"DC\", \"FL\", \"GA\", \"HI\", \"ID\", \"IL\", \"IN\", \"IA\", \"KS\", \"KY\", \"LA\", \"ME\", \"MD\", \"MA\", \"MI\", \"MN\", \"MS\", \"MO\", \"MT\", \"NE\", \"NV\", \"NH\", \"NJ\", \"NM\", \"NY\", \"NC\", \"ND\", \"OH\", \"OK\", \"OR\", \"PA\", \"RI\", \"SC\", \"SD\", \"TN\", \"TX\", \"UT\", \"VT\", \"VA\", \"WA\", \"WV\", \"WI\", \"WY\"], \"name\": \"\", \"z\": [47.64540359939813, 39.457498085150824, 38.47314178113284, 35.483399305529986, 32.614669375921295, 35.869052626212415, 35.78324122176325, 35.32663490090464, 9.095143515019423, 40.90249693604387, 42.877853186353384, 36.697045933666274, 42.03258980241188, 34.337467132209945, 42.90678012776951, 37.27213870886538, 38.88152459826691, 41.34088016611963, 40.970895807134795, 30.390626034769735, 35.62940269477673, 29.02438795758967, 36.375647915056895, 31.850833153034053, 49.68389467026145, 33.92168178415654, 35.12249654759208, 46.59750035929962, 34.726792253089954, 37.69142708226688, 40.58103346279482, 37.338460944654784, 28.839743075433173, 43.442808737102055, 44.2159716745691, 38.3466124368847, 42.64574832830945, 32.52721272381572, 36.12721051814485, 29.027604689378318, 46.993356725298476, 40.65914457523182, 42.43336403317197, 40.560021111410464, 43.364632700625535, 30.418258825478684, 44.95736635394308, 31.965605348919045, 35.393029164356854, 36.77722096319967, 39.69652398391067], \"type\": \"choropleth\"}], \"name\": \"1992\"}, {\"data\": [{\"coloraxis\": \"coloraxis\", \"geo\": \"geo\", \"hoverlabel\": {\"namelength\": 0}, \"hovertemplate\": \"year=1996<br>State=%{location}<br>Percent Republican Votes=%{z}\", \"locationmode\": \"USA-states\", \"locations\": [\"AL\", \"AK\", \"AZ\", \"AR\", \"CA\", \"CO\", \"CT\", \"DE\", \"DC\", \"FL\", \"GA\", \"HI\", \"ID\", \"IL\", \"IN\", \"IA\", \"KS\", \"KY\", \"LA\", \"ME\", \"MD\", \"MA\", \"MI\", \"MN\", \"MS\", \"MO\", \"MT\", \"NE\", \"NV\", \"NH\", \"NJ\", \"NM\", \"NY\", \"NC\", \"ND\", \"OH\", \"OK\", \"OR\", \"PA\", \"RI\", \"SC\", \"SD\", \"TN\", \"TX\", \"UT\", \"VT\", \"VA\", \"WA\", \"WV\", \"WI\", \"WY\"], \"name\": \"\", \"z\": [50.121843205163884, 50.80125817399222, 44.29441649666585, 36.800857664357395, 38.20942008004616, 45.7964575409313, 34.69080448710123, 36.579889959750375, 9.335795742114728, 42.324548749668594, 47.015680114698384, 31.64028657114295, 52.184108144824904, 36.80995298269166, 47.142380156511734, 39.920102100763735, 54.2907009215303, 44.88222146052302, 39.94407943231879, 30.76067384390416, 38.269497492798465, 28.087992023341663, 38.48459433533809, 34.95542971194422, 49.20675231049262, 41.241389856190615, 44.131540742305624, 53.65499730593506, 42.91471292046377, 39.5664895277257, 35.863108203884444, 41.85611986893831, 27.002207907311686, 48.72941366328975, 46.938752528987166, 41.016872227051934, 48.256296236139, 39.059923353849726, 40.014355830428805, 26.824805828103738, 49.8476762807973, 46.48885512590095, 45.59039757563599, 48.7587416450509, 54.37127889560101, 31.090079667555305, 47.1046187230049, 37.30136651408243, 36.75743449303097, 38.47741225743556, 49.81211980848037], \"type\": \"choropleth\"}], \"name\": \"1996\"}, {\"data\": [{\"coloraxis\": \"coloraxis\", \"geo\": \"geo\", \"hoverlabel\": {\"namelength\": 0}, \"hovertemplate\": \"year=2000<br>State=%{location}<br>Percent Republican Votes=%{z}\", \"locationmode\": \"USA-states\", \"locations\": [\"AL\", \"AK\", \"AZ\", \"AR\", \"CA\", \"CO\", \"CT\", \"DE\", \"DC\", \"FL\", \"GA\", \"HI\", \"ID\", \"IL\", \"IN\", \"IA\", \"KS\", \"KY\", \"LA\", \"ME\", \"MD\", \"MA\", \"MI\", \"MN\", \"MS\", \"MO\", \"MT\", \"NE\", \"NV\", \"NH\", \"NJ\", \"NM\", \"NY\", \"NC\", \"ND\", \"OH\", \"OK\", \"OR\", \"PA\", \"RI\", \"SC\", \"SD\", \"TN\", \"TX\", \"UT\", \"VT\", \"VA\", \"WA\", \"WV\", \"WI\", \"WY\"], \"name\": \"\", \"z\": [56.483755353267654, 58.620955315870575, 51.02113816043696, 51.30719769663293, 41.651496805255455, 50.7502147736722, 38.4436032270773, 41.91628832866708, 8.951727143946824, 48.84682657204043, 54.95956965137921, 37.46286869719066, 67.17043948047807, 42.58487997321023, 56.6468816015263, 46.88563822317745, 58.0416632469577, 56.5064833631888, 52.551063174253656, 43.971850994987854, 40.18478065506228, 32.13290299360197, 46.14621473214064, 45.502350652093234, 57.61951509982056, 50.42281595937441, 58.4394602249225, 62.245362034607375, 49.485089247915255, 48.07030985044308, 40.29124385907997, 47.84741189933261, 32.44981656457451, 55.9577562873286, 60.65858126110124, 49.98647383516539, 60.307852108482294, 46.51892173799668, 46.43813292862545, 31.911799213907194, 56.86038462261056, 60.29677268401266, 51.14915318076796, 59.298599468103454, 66.83014295092858, 40.697160797531836, 52.47372918694905, 44.5786479475025, 51.91521992705099, 47.613163514144304, 69.22274313841086], \"type\": \"choropleth\"}], \"name\": \"2000\"}, {\"data\": [{\"coloraxis\": \"coloraxis\", \"geo\": \"geo\", \"hoverlabel\": {\"namelength\": 0}, \"hovertemplate\": \"year=2004<br>State=%{location}<br>Percent Republican Votes=%{z}\", \"locationmode\": \"USA-states\", \"locations\": [\"AL\", \"AK\", \"AZ\", \"AR\", \"CA\", \"CO\", \"CT\", \"DE\", \"DC\", \"FL\", \"GA\", \"HI\", \"ID\", \"IL\", \"IN\", \"IA\", \"KS\", \"KY\", \"LA\", \"ME\", \"MD\", \"MA\", \"MI\", \"MN\", \"MS\", \"MO\", \"MT\", \"NE\", \"NV\", \"NH\", \"NJ\", \"NM\", \"NY\", \"NC\", \"ND\", \"OH\", \"OK\", \"OR\", \"PA\", \"RI\", \"SC\", \"SD\", \"TN\", \"TX\", \"UT\", \"VT\", \"VA\", \"WA\", \"WV\", \"WI\", \"WY\"], \"name\": \"\", \"z\": [62.46068975770077, 61.065329912539426, 54.869434086013754, 54.30595907843537, 44.357695977241775, 51.7110953545921, 43.94727791082799, 45.75281857192356, 9.339766066454, 52.09751623233695, 57.974756766988456, 45.26459571155186, 68.39094482399027, 44.47862682634849, 59.944765036657174, 49.90065750530225, 62.003980615547306, 59.54951383220055, 56.72202134108999, 44.57645743784695, 42.97821777859425, 36.58840187124994, 47.812058557810175, 47.613533791521455, 59.01437414899142, 53.29619193926551, 59.06814316858851, 65.89864119889074, 50.4696915453111, 48.83434298460681, 46.23881168128724, 49.8384247604138, 37.6865299923499, 56.01719733779452, 62.86133496146506, 50.814024335529595, 65.57040166475606, 47.19291674243323, 48.4236661530542, 38.67143713369356, 57.98194968164678, 59.91113171824891, 56.799089491363254, 61.08582276906154, 71.53594785330293, 38.801315363950444, 53.731956569021555, 45.64028199241436, 56.07071786946673, 49.31987145842503, 68.73956885274808], \"type\": \"choropleth\"}], \"name\": \"2004\"}, {\"data\": [{\"coloraxis\": \"coloraxis\", \"geo\": \"geo\", \"hoverlabel\": {\"namelength\": 0}, \"hovertemplate\": \"year=2008<br>State=%{location}<br>Percent Republican Votes=%{z}\", \"locationmode\": \"USA-states\", \"locations\": [\"AL\", \"AK\", \"AZ\", \"AR\", \"CA\", \"CO\", \"CT\", \"DE\", \"DC\", \"FL\", \"GA\", \"HI\", \"ID\", \"IL\", \"IN\", \"IA\", \"KS\", \"KY\", \"LA\", \"ME\", \"MD\", \"MA\", \"MI\", \"MN\", \"MS\", \"MO\", \"MT\", \"NE\", \"NV\", \"NH\", \"NJ\", \"NM\", \"NY\", \"NC\", \"ND\", \"OH\", \"OK\", \"OR\", \"PA\", \"RI\", \"SC\", \"SD\", \"TN\", \"TX\", \"UT\", \"VT\", \"VA\", \"WA\", \"WV\", \"WI\", \"WY\"], \"name\": \"\", \"z\": [60.31691302917061, 59.42451953880631, 53.63524782262724, 58.71590449992959, 36.954858832464474, 44.70752210933716, 38.22146330562694, 36.94703354897529, 6.5325574659680345, 48.215319165976226, 52.204517992929524, 26.43620193657031, 61.51709147303861, 36.7809225421472, 48.91390717884854, 44.39325935530208, 56.612254343491884, 57.39902114287592, 58.56272131075638, 40.38401833790823, 36.4745196451127, 35.734959289331755, 40.959705661952704, 43.822931044139075, 56.1761889810174, 49.42607441187882, 49.5324509445858, 56.53185336979162, 42.65411510898405, 44.521428470962206, 41.70393385927491, 41.77903483433274, 31.3172371111752, 49.37479861864861, 53.250100277618984, 46.91057836327485, 65.64508112269351, 40.400981692292206, 44.16705247991443, 35.057846474735356, 53.873643978637865, 53.15897637279927, 56.89695428289423, 55.45236045232641, 62.583869714501716, 30.449228724549755, 46.33050069025531, 40.47630494211489, 55.71034310695479, 42.31366248834809, 64.71377459749553], \"type\": \"choropleth\"}], \"name\": \"2008\"}, {\"data\": [{\"coloraxis\": \"coloraxis\", \"geo\": \"geo\", \"hoverlabel\": {\"namelength\": 0}, \"hovertemplate\": \"year=2012<br>State=%{location}<br>Percent Republican Votes=%{z}\", \"locationmode\": \"USA-states\", \"locations\": [\"AL\", \"AK\", \"AZ\", \"AR\", \"CA\", \"CO\", \"CT\", \"DE\", \"DC\", \"FL\", \"GA\", \"HI\", \"ID\", \"IL\", \"IN\", \"IA\", \"KS\", \"KY\", \"LA\", \"ME\", \"MD\", \"MA\", \"MI\", \"MN\", \"MS\", \"MO\", \"MT\", \"NE\", \"NV\", \"NH\", \"NJ\", \"NM\", \"NY\", \"NC\", \"ND\", \"OH\", \"OK\", \"OR\", \"PA\", \"RI\", \"SC\", \"SD\", \"TN\", \"TX\", \"UT\", \"VT\", \"VA\", \"WA\", \"WV\", \"WI\", \"WY\"], \"name\": \"\", \"z\": [60.54582232982282, 54.801577397294466, 53.654533165974705, 60.566936084109116, 37.1203785207048, 46.127091639047975, 40.74511424691504, 39.98260407354611, 7.2782914176005225, 49.13097776197552, 53.32924217752451, 27.68214768539593, 64.52978349589283, 40.7327412708169, 54.12553238022445, 46.17786851053609, 59.711320369216125, 60.49314159932162, 57.78457572847425, 40.3273920398257, 35.89773233894539, 37.319122315334866, 44.710916027420225, 44.958201106668646, 55.285846743581125, 53.76374113587708, 55.3515353849205, 59.80319217904804, 45.67531564126363, 46.40379649268888, 40.623564827144385, 42.84332663909013, 31.241597328231403, 50.39306410214295, 58.31568255855723, 47.68844087842257, 66.77231974301657, 42.14987117651333, 46.68086603367445, 35.24366157081397, 54.561131255861405, 57.88931187554114, 59.478714719937585, 57.16697746805639, 72.7905331026891, 30.97263523672692, 47.28310289638912, 41.29462143210913, 62.29584241943327, 45.93834671361976, 68.19358518713527], \"type\": \"choropleth\"}], \"name\": \"2012\"}, {\"data\": [{\"coloraxis\": \"coloraxis\", \"geo\": \"geo\", \"hoverlabel\": {\"namelength\": 0}, \"hovertemplate\": \"year=2016<br>State=%{location}<br>Percent Republican Votes=%{z}\", \"locationmode\": \"USA-states\", \"locations\": [\"AL\", \"AK\", \"AZ\", \"AR\", \"CA\", \"CO\", \"CT\", \"DE\", \"DC\", \"FL\", \"GA\", \"HI\", \"ID\", \"IL\", \"IN\", \"IA\", \"KS\", \"KY\", \"LA\", \"ME\", \"MD\", \"MD\", \"MA\", \"MI\", \"MN\", \"MS\", \"MO\", \"MT\", \"NE\", \"NV\", \"NH\", \"NJ\", \"NM\", \"NY\", \"NC\", \"ND\", \"OH\", \"OK\", \"OR\", \"PA\", \"RI\", \"SC\", \"SD\", \"TN\", \"TX\", \"UT\", \"VT\", \"VA\", \"WA\", \"WV\", \"WI\", \"WY\"], \"name\": \"\", \"z\": [62.08309236440906, 51.281512077537286, 48.67161647232105, 60.57410216382829, 31.617106538439433, 43.25139737143104, 40.92691437881478, 41.92282433931928, 4.070383108054067, 49.021941416590735, 50.771326054771, 29.439707172625575, 59.26143236919689, 38.761753073825275, 56.94003344841128, 51.16206134467737, 56.65458180583958, 62.519638551900094, 58.0886846535688, 43.476678084498865, 33.90930472854767, 0.009311703337041238, 32.28620279085515, 47.49756421999615, 44.92519310427733, 57.94103808883564, 56.77234783816165, 56.466191868577184, 58.74735112712576, 45.50069531760242, 46.458666981953414, 41.35038665002945, 40.04251433324272, 32.390602305742924, 49.828094696180415, 62.9556278313393, 51.68765067578619, 65.32286481962736, 39.094035184496754, 48.57788580374602, 38.898057499396735, 54.93933268569543, 61.5307503789588, 60.722033694214616, 52.234685579335384, 45.54081658810042, 29.759382401308095, 44.427647013924044, 36.83268018663746, 68.63057481161935, 47.21818456731012, 67.3984110546084], \"type\": \"choropleth\"}], \"name\": \"2016\"}]);\n",
              "                        }).then(function(){\n",
              "                            \n",
              "var gd = document.getElementById('960c12b2-2bae-4a59-897c-0202dd3500c9');\n",
              "var x = new MutationObserver(function (mutations, observer) {{\n",
              "        var display = window.getComputedStyle(gd).display;\n",
              "        if (!display || display === 'none') {{\n",
              "            console.log([gd, 'removed!']);\n",
              "            Plotly.purge(gd);\n",
              "            observer.disconnect();\n",
              "        }}\n",
              "}});\n",
              "\n",
              "// Listen for the removal of the full notebook cells\n",
              "var notebookContainer = gd.closest('#notebook-container');\n",
              "if (notebookContainer) {{\n",
              "    x.observe(notebookContainer, {childList: true});\n",
              "}}\n",
              "\n",
              "// Listen for the clearing of the current output cell\n",
              "var outputEl = gd.closest('.output');\n",
              "if (outputEl) {{\n",
              "    x.observe(outputEl, {childList: true});\n",
              "}}\n",
              "\n",
              "                        })\n",
              "                };\n",
              "                \n",
              "            </script>\n",
              "        </div>\n",
              "</body>\n",
              "</html>"
            ]
          },
          "metadata": {
            "tags": []
          }
        }
      ]
    },
    {
      "cell_type": "markdown",
      "metadata": {
        "id": "mE7X2nW-NPsd"
      },
      "source": [
        "## export the animation as a html file"
      ]
    },
    {
      "cell_type": "code",
      "metadata": {
        "id": "MKiNGbAiMtpR"
      },
      "source": [
        "# save as an html to share animation\n",
        "choropleth_election_animation.write_html(\"chroropleth_us_prez_election_animation.html\")"
      ],
      "execution_count": 32,
      "outputs": []
    },
    {
      "cell_type": "code",
      "metadata": {
        "colab": {
          "base_uri": "https://localhost:8080/",
          "height": 17
        },
        "id": "6a5ubOzKNeE9",
        "outputId": "7c9a69e5-5121-49be-da19-7dd3bead337f"
      },
      "source": [
        "# download the file from google colab\n",
        "files.download(\"chroropleth_us_prez_election_animation.html\")"
      ],
      "execution_count": 33,
      "outputs": [
        {
          "output_type": "display_data",
          "data": {
            "application/javascript": [
              "\n",
              "    async function download(id, filename, size) {\n",
              "      if (!google.colab.kernel.accessAllowed) {\n",
              "        return;\n",
              "      }\n",
              "      const div = document.createElement('div');\n",
              "      const label = document.createElement('label');\n",
              "      label.textContent = `Downloading \"${filename}\": `;\n",
              "      div.appendChild(label);\n",
              "      const progress = document.createElement('progress');\n",
              "      progress.max = size;\n",
              "      div.appendChild(progress);\n",
              "      document.body.appendChild(div);\n",
              "\n",
              "      const buffers = [];\n",
              "      let downloaded = 0;\n",
              "\n",
              "      const channel = await google.colab.kernel.comms.open(id);\n",
              "      // Send a message to notify the kernel that we're ready.\n",
              "      channel.send({})\n",
              "\n",
              "      for await (const message of channel.messages) {\n",
              "        // Send a message to notify the kernel that we're ready.\n",
              "        channel.send({})\n",
              "        if (message.buffers) {\n",
              "          for (const buffer of message.buffers) {\n",
              "            buffers.push(buffer);\n",
              "            downloaded += buffer.byteLength;\n",
              "            progress.value = downloaded;\n",
              "          }\n",
              "        }\n",
              "      }\n",
              "      const blob = new Blob(buffers, {type: 'application/binary'});\n",
              "      const a = document.createElement('a');\n",
              "      a.href = window.URL.createObjectURL(blob);\n",
              "      a.download = filename;\n",
              "      div.appendChild(a);\n",
              "      a.click();\n",
              "      div.remove();\n",
              "    }\n",
              "  "
            ],
            "text/plain": [
              "<IPython.core.display.Javascript object>"
            ]
          },
          "metadata": {
            "tags": []
          }
        },
        {
          "output_type": "display_data",
          "data": {
            "application/javascript": [
              "download(\"download_b842c8ec-13c7-47fe-9822-b1f30ad45efd\", \"chroropleth_us_prez_election_animation.html\", 3316098)"
            ],
            "text/plain": [
              "<IPython.core.display.Javascript object>"
            ]
          },
          "metadata": {
            "tags": []
          }
        }
      ]
    },
    {
      "cell_type": "code",
      "metadata": {
        "id": "a58vKTINNla-"
      },
      "source": [
        ""
      ],
      "execution_count": null,
      "outputs": []
    }
  ]
}